{
 "cells": [
  {
   "cell_type": "markdown",
   "metadata": {
    "colab_type": "text",
    "id": "x7ga2OGQC220"
   },
   "source": [
    "# Natural Language Processing using Doc2Vec on National Science Foundation Awards Abstracts\n",
    "---\n",
    "### Team:  \n",
    "Jacob Noble  \n",
    "Himanshu Gamit  \n",
    "Shantanu Hadap\n",
    "\n",
    "\n",
    "## 1. Pre-requisites: Sagemaker Jupyter Instance- ml.m5.xlarge and MphasisDeepInsightsTextSummarizer Product ARN\n",
    "\n",
    "1. Make sure you are in North Virginia Region.\n",
    "2. Go to https://aws.amazon.com/marketplace/pp/prodview-uzkcdmjuagetk and \n",
    "3. Subscribe and accept offer.\n",
    "3. Wait for a confirmation email and then Continue to Configuration.\n",
    "4. Select your launch method to SageMaker Console\n",
    "5. Go to Configure for Amazon SageMaker console\n",
    "6. Copy Prodcut arn keep it for later use. \n",
    "\n",
    "\n",
    "#### Make Sure to update product arn as highlighted below \n",
    "\n",
    "#### MphasisDeepInsightsTextSummarizer Product ARN\n",
    "\n",
    "## 2. FOR CUSTOM USER ABSTRACT INPUT Update text variable section highlighted below"
   ]
  },
  {
   "cell_type": "markdown",
   "metadata": {
    "colab_type": "text",
    "id": "tdOYaCrjC22-"
   },
   "source": [
    "### Imports\n"
   ]
  },
  {
   "cell_type": "code",
   "execution_count": 1,
   "metadata": {},
   "outputs": [
    {
     "name": "stdout",
     "output_type": "stream",
     "text": [
      "Requirement already satisfied: gensim in /home/ec2-user/anaconda3/envs/tensorflow_p36/lib/python3.6/site-packages (3.8.2)\n",
      "Requirement already satisfied: scipy>=1.0.0 in /home/ec2-user/anaconda3/envs/tensorflow_p36/lib/python3.6/site-packages (from gensim) (1.4.1)\n",
      "Requirement already satisfied: numpy>=1.11.3 in /home/ec2-user/anaconda3/envs/tensorflow_p36/lib/python3.6/site-packages (from gensim) (1.16.4)\n",
      "Requirement already satisfied: six>=1.5.0 in /home/ec2-user/anaconda3/envs/tensorflow_p36/lib/python3.6/site-packages (from gensim) (1.11.0)\n",
      "Requirement already satisfied: smart-open>=1.8.1 in /home/ec2-user/anaconda3/envs/tensorflow_p36/lib/python3.6/site-packages (from gensim) (1.11.1)\n",
      "Requirement already satisfied: boto3 in /home/ec2-user/anaconda3/envs/tensorflow_p36/lib/python3.6/site-packages (from smart-open>=1.8.1->gensim) (1.12.24)\n",
      "Requirement already satisfied: boto in /home/ec2-user/anaconda3/envs/tensorflow_p36/lib/python3.6/site-packages (from smart-open>=1.8.1->gensim) (2.48.0)\n",
      "Requirement already satisfied: requests in /home/ec2-user/anaconda3/envs/tensorflow_p36/lib/python3.6/site-packages (from smart-open>=1.8.1->gensim) (2.20.0)\n",
      "Requirement already satisfied: s3transfer<0.4.0,>=0.3.0 in /home/ec2-user/anaconda3/envs/tensorflow_p36/lib/python3.6/site-packages (from boto3->smart-open>=1.8.1->gensim) (0.3.3)\n",
      "Requirement already satisfied: jmespath<1.0.0,>=0.7.1 in /home/ec2-user/anaconda3/envs/tensorflow_p36/lib/python3.6/site-packages (from boto3->smart-open>=1.8.1->gensim) (0.9.4)\n",
      "Requirement already satisfied: botocore<1.16.0,>=1.15.24 in /home/ec2-user/anaconda3/envs/tensorflow_p36/lib/python3.6/site-packages (from boto3->smart-open>=1.8.1->gensim) (1.15.24)\n",
      "Requirement already satisfied: chardet<3.1.0,>=3.0.2 in /home/ec2-user/anaconda3/envs/tensorflow_p36/lib/python3.6/site-packages (from requests->smart-open>=1.8.1->gensim) (3.0.4)\n",
      "Requirement already satisfied: certifi>=2017.4.17 in /home/ec2-user/anaconda3/envs/tensorflow_p36/lib/python3.6/site-packages (from requests->smart-open>=1.8.1->gensim) (2019.11.28)\n",
      "Requirement already satisfied: urllib3<1.25,>=1.21.1 in /home/ec2-user/anaconda3/envs/tensorflow_p36/lib/python3.6/site-packages (from requests->smart-open>=1.8.1->gensim) (1.23)\n",
      "Requirement already satisfied: idna<2.8,>=2.5 in /home/ec2-user/anaconda3/envs/tensorflow_p36/lib/python3.6/site-packages (from requests->smart-open>=1.8.1->gensim) (2.6)\n",
      "Requirement already satisfied: docutils<0.16,>=0.10 in /home/ec2-user/anaconda3/envs/tensorflow_p36/lib/python3.6/site-packages (from botocore<1.16.0,>=1.15.24->boto3->smart-open>=1.8.1->gensim) (0.14)\n",
      "Requirement already satisfied: python-dateutil<3.0.0,>=2.1 in /home/ec2-user/anaconda3/envs/tensorflow_p36/lib/python3.6/site-packages (from botocore<1.16.0,>=1.15.24->boto3->smart-open>=1.8.1->gensim) (2.7.3)\n",
      "\u001b[33mWARNING: You are using pip version 19.3.1; however, version 20.0.2 is available.\n",
      "You should consider upgrading via the 'pip install --upgrade pip' command.\u001b[0m\n"
     ]
    }
   ],
   "source": [
    "!pip install gensim"
   ]
  },
  {
   "cell_type": "code",
   "execution_count": 2,
   "metadata": {
    "colab": {},
    "colab_type": "code",
    "id": "12pVWFUTC22_"
   },
   "outputs": [
    {
     "name": "stderr",
     "output_type": "stream",
     "text": [
      "unable to import 'smart_open.gcs', disabling that module\n"
     ]
    }
   ],
   "source": [
    "import gensim\n",
    "from gensim.models import Doc2Vec\n",
    "import pandas as pd\n",
    "from sklearn.preprocessing import StandardScaler # Replace with SAS version"
   ]
  },
  {
   "cell_type": "code",
   "execution_count": 3,
   "metadata": {
    "colab": {
     "base_uri": "https://localhost:8080/",
     "height": 235
    },
    "colab_type": "code",
    "id": "HiqBFGEx4kNQ",
    "outputId": "29685a3c-3835-490e-a866-b2f6d25ff668"
   },
   "outputs": [
    {
     "name": "stdout",
     "output_type": "stream",
     "text": [
      "--2020-04-17 03:58:38--  https://nsfdata.s3.amazonaws.com/nsfdataset.zip\n",
      "Resolving nsfdata.s3.amazonaws.com (nsfdata.s3.amazonaws.com)... 52.216.251.188\n",
      "Connecting to nsfdata.s3.amazonaws.com (nsfdata.s3.amazonaws.com)|52.216.251.188|:443... connected.\n",
      "HTTP request sent, awaiting response... 200 OK\n",
      "Length: 358656602 (342M) [application/zip]\n",
      "Saving to: ‘nsfdataset.zip’\n",
      "\n",
      "nsfdataset.zip      100%[===================>] 342.04M  84.5MB/s    in 4.1s    \n",
      "\n",
      "2020-04-17 03:58:42 (82.9 MB/s) - ‘nsfdataset.zip’ saved [358656602/358656602]\n",
      "\n",
      "Archive:  nsfdataset.zip\n",
      "  inflating: data/nsf_proposals.csv  \n"
     ]
    }
   ],
   "source": [
    "#!rm -r data\n",
    "!wget https://nsfdata.s3.amazonaws.com/nsfdataset.zip -O nsfdataset.zip\n",
    "!unzip -o nsfdataset.zip -d data"
   ]
  },
  {
   "cell_type": "code",
   "execution_count": 4,
   "metadata": {},
   "outputs": [
    {
     "name": "stdout",
     "output_type": "stream",
     "text": [
      "nsf_proposals.csv\r\n"
     ]
    }
   ],
   "source": [
    "!ls data"
   ]
  },
  {
   "cell_type": "code",
   "execution_count": 5,
   "metadata": {
    "colab": {
     "base_uri": "https://localhost:8080/",
     "height": 50
    },
    "colab_type": "code",
    "id": "ELme3JwFr579",
    "outputId": "60c0c11b-9150-45a7-a261-d0176933d6b8"
   },
   "outputs": [
    {
     "name": "stdout",
     "output_type": "stream",
     "text": [
      "Total Projects:  329321 \n",
      "Total Features:  2\n"
     ]
    }
   ],
   "source": [
    "#import saspy\n",
    "import pandas as pd\n",
    "import numpy as np\n",
    "\n",
    "\n",
    "selected_cols = ['abstractText','date']\n",
    "projects = pd.read_csv(\"data/nsf_proposals.csv\", usecols = selected_cols, low_memory=False) #, nrows=30000\n",
    "print (\"Total Projects: \", projects.shape[0], \"\\nTotal Features: \", projects.shape[1])\n",
    "projects.date = pd.to_datetime(projects.date.str.replace('D', 'T'))\n",
    "projects = projects.sort_values('date')"
   ]
  },
  {
   "cell_type": "markdown",
   "metadata": {
    "colab_type": "text",
    "id": "yPmscOBnC23B"
   },
   "source": [
    "### Load in Data using Pandas"
   ]
  },
  {
   "cell_type": "code",
   "execution_count": 6,
   "metadata": {
    "colab": {
     "base_uri": "https://localhost:8080/",
     "height": 262
    },
    "colab_type": "code",
    "id": "WpMB6ablC23C",
    "outputId": "d7dffdab-360b-4070-d863-772f4cd0c5e9"
   },
   "outputs": [
    {
     "name": "stdout",
     "output_type": "stream",
     "text": [
      "Max length of the abstractText: 8166\n",
      "Min length of the abstractText: 1\n",
      "Avg length of the abstractText: 1645.861842268939\n",
      "Max words abstractText: 1252\n"
     ]
    },
    {
     "data": {
      "text/html": [
       "<div>\n",
       "<style scoped>\n",
       "    .dataframe tbody tr th:only-of-type {\n",
       "        vertical-align: middle;\n",
       "    }\n",
       "\n",
       "    .dataframe tbody tr th {\n",
       "        vertical-align: top;\n",
       "    }\n",
       "\n",
       "    .dataframe thead th {\n",
       "        text-align: right;\n",
       "    }\n",
       "</style>\n",
       "<table border=\"1\" class=\"dataframe\">\n",
       "  <thead>\n",
       "    <tr style=\"text-align: right;\">\n",
       "      <th></th>\n",
       "      <th>abstractText</th>\n",
       "      <th>date</th>\n",
       "    </tr>\n",
       "  </thead>\n",
       "  <tbody>\n",
       "    <tr>\n",
       "      <th>295988</th>\n",
       "      <td>Nondestructive Evaluation (NDE) is important t...</td>\n",
       "      <td>1985-08-30</td>\n",
       "    </tr>\n",
       "    <tr>\n",
       "      <th>307099</th>\n",
       "      <td>An Industry/University Cooperative Research Ce...</td>\n",
       "      <td>1985-08-30</td>\n",
       "    </tr>\n",
       "    <tr>\n",
       "      <th>284877</th>\n",
       "      <td>This research seeks to obtain a representation...</td>\n",
       "      <td>1985-09-06</td>\n",
       "    </tr>\n",
       "    <tr>\n",
       "      <th>177779</th>\n",
       "      <td>This is an attempt to develop a \"solvated elec...</td>\n",
       "      <td>1986-01-16</td>\n",
       "    </tr>\n",
       "    <tr>\n",
       "      <th>166668</th>\n",
       "      <td>The New York State College of Ceramics at Alfr...</td>\n",
       "      <td>1986-06-03</td>\n",
       "    </tr>\n",
       "  </tbody>\n",
       "</table>\n",
       "</div>"
      ],
      "text/plain": [
       "                                             abstractText       date\n",
       "295988  Nondestructive Evaluation (NDE) is important t... 1985-08-30\n",
       "307099  An Industry/University Cooperative Research Ce... 1985-08-30\n",
       "284877  This research seeks to obtain a representation... 1985-09-06\n",
       "177779  This is an attempt to develop a \"solvated elec... 1986-01-16\n",
       "166668  The New York State College of Ceramics at Alfr... 1986-06-03"
      ]
     },
     "execution_count": 6,
     "metadata": {},
     "output_type": "execute_result"
    }
   ],
   "source": [
    "# Drop values without Abstract texts\n",
    "projects = projects.dropna(how='any')\n",
    "\n",
    "print(\"Max length of the abstractText:\", projects.abstractText.str.len().max())\n",
    "print(\"Min length of the abstractText:\", projects.abstractText.str.len().min())\n",
    "print(\"Avg length of the abstractText:\", projects.abstractText.apply(lambda x: len(x) - x.count(\" \")).mean())\n",
    "\n",
    "words = projects.abstractText.str.split().apply(len)\n",
    "print(\"Max words abstractText:\", words.max())\n",
    "projects.head()"
   ]
  },
  {
   "cell_type": "markdown",
   "metadata": {
    "colab_type": "text",
    "id": "hJJZRTyCC23F"
   },
   "source": [
    "### Setup Training Set for Doc2Vec"
   ]
  },
  {
   "cell_type": "code",
   "execution_count": 7,
   "metadata": {
    "colab": {
     "base_uri": "https://localhost:8080/",
     "height": 34
    },
    "colab_type": "code",
    "id": "puEINuT5C23F",
    "outputId": "ee4bd738-7544-4d88-cac6-7e5fe59d9055"
   },
   "outputs": [
    {
     "name": "stdout",
     "output_type": "stream",
     "text": [
      "Number of abstracts:  321560\n"
     ]
    }
   ],
   "source": [
    "X_raw = projects.abstractText.str.lower().values\n",
    "num_of_docs = len(X_raw)\n",
    "print('Number of abstracts: ', num_of_docs)"
   ]
  },
  {
   "cell_type": "markdown",
   "metadata": {},
   "source": [
    "#### Download Model Files"
   ]
  },
  {
   "cell_type": "code",
   "execution_count": 39,
   "metadata": {},
   "outputs": [
    {
     "name": "stdout",
     "output_type": "stream",
     "text": [
      "--2020-04-17 04:21:05--  https://nsfdata.s3.amazonaws.com/0nsf_doc2v.model\n",
      "Resolving nsfdata.s3.amazonaws.com (nsfdata.s3.amazonaws.com)... 52.216.85.227\n",
      "Connecting to nsfdata.s3.amazonaws.com (nsfdata.s3.amazonaws.com)|52.216.85.227|:443... connected.\n",
      "HTTP request sent, awaiting response... 200 OK\n",
      "Length: 19628559 (19M) [application/x-www-form-urlencoded]\n",
      "Saving to: ‘0nsf_doc2v.model’\n",
      "\n",
      "0nsf_doc2v.model    100%[===================>]  18.72M  46.8MB/s    in 0.4s    \n",
      "\n",
      "2020-04-17 04:21:06 (46.8 MB/s) - ‘0nsf_doc2v.model’ saved [19628559/19628559]\n",
      "\n",
      "--2020-04-17 04:21:06--  https://nsfdata.s3.amazonaws.com/0nsf_doc2v.model.docvecs.vectors_docs.npy\n",
      "Resolving nsfdata.s3.amazonaws.com (nsfdata.s3.amazonaws.com)... 52.216.85.227\n",
      "Connecting to nsfdata.s3.amazonaws.com (nsfdata.s3.amazonaws.com)|52.216.85.227|:443... connected.\n",
      "HTTP request sent, awaiting response... 200 OK\n",
      "Length: 385872128 (368M) [application/x-www-form-urlencoded]\n",
      "Saving to: ‘0nsf_doc2v.model.docvecs.vectors_docs.npy’\n",
      "\n",
      "0nsf_doc2v.model.do 100%[===================>] 368.00M  90.6MB/s    in 4.0s    \n",
      "\n",
      "2020-04-17 04:21:10 (92.9 MB/s) - ‘0nsf_doc2v.model.docvecs.vectors_docs.npy’ saved [385872128/385872128]\n",
      "\n",
      "--2020-04-17 04:21:10--  https://nsfdata.s3.amazonaws.com/0nsf_doc2v.model.trainables.syn1neg.npy\n",
      "Resolving nsfdata.s3.amazonaws.com (nsfdata.s3.amazonaws.com)... 52.216.99.11\n",
      "Connecting to nsfdata.s3.amazonaws.com (nsfdata.s3.amazonaws.com)|52.216.99.11|:443... connected.\n",
      "HTTP request sent, awaiting response... 200 OK\n",
      "Length: 304117328 (290M) [application/x-www-form-urlencoded]\n",
      "Saving to: ‘0nsf_doc2v.model.trainables.syn1neg.npy’\n",
      "\n",
      "0nsf_doc2v.model.tr 100%[===================>] 290.03M  92.0MB/s    in 3.2s    \n",
      "\n",
      "2020-04-17 04:21:14 (92.0 MB/s) - ‘0nsf_doc2v.model.trainables.syn1neg.npy’ saved [304117328/304117328]\n",
      "\n",
      "--2020-04-17 04:21:14--  https://nsfdata.s3.amazonaws.com/0nsf_doc2v.model.wv.vectors.npy\n",
      "Resolving nsfdata.s3.amazonaws.com (nsfdata.s3.amazonaws.com)... 52.217.15.100\n",
      "Connecting to nsfdata.s3.amazonaws.com (nsfdata.s3.amazonaws.com)|52.217.15.100|:443... connected.\n",
      "HTTP request sent, awaiting response... 200 OK\n",
      "Length: 304117328 (290M) [application/x-www-form-urlencoded]\n",
      "Saving to: ‘0nsf_doc2v.model.wv.vectors.npy’\n",
      "\n",
      "0nsf_doc2v.model.wv 100%[===================>] 290.03M  84.5MB/s    in 3.4s    \n",
      "\n",
      "2020-04-17 04:21:17 (84.5 MB/s) - ‘0nsf_doc2v.model.wv.vectors.npy’ saved [304117328/304117328]\n",
      "\n"
     ]
    }
   ],
   "source": [
    "!wget https://nsfdata.s3.amazonaws.com/0nsf_doc2v.model -O 0nsf_doc2v.model\n",
    "!wget https://nsfdata.s3.amazonaws.com/0nsf_doc2v.model.docvecs.vectors_docs.npy -O 0nsf_doc2v.model.docvecs.vectors_docs.npy\n",
    "!wget https://nsfdata.s3.amazonaws.com/0nsf_doc2v.model.trainables.syn1neg.npy -O 0nsf_doc2v.model.trainables.syn1neg.npy\n",
    "!wget https://nsfdata.s3.amazonaws.com/0nsf_doc2v.model.wv.vectors.npy -O 0nsf_doc2v.model.wv.vectors.npy"
   ]
  },
  {
   "cell_type": "markdown",
   "metadata": {
    "colab_type": "text",
    "id": "8ru1PXGUC23J"
   },
   "source": [
    "### Create generator that will tokenize the training abstracts on the fly to save on memory"
   ]
  },
  {
   "cell_type": "code",
   "execution_count": 9,
   "metadata": {
    "colab": {},
    "colab_type": "code",
    "id": "i1pg5829C23K"
   },
   "outputs": [],
   "source": [
    "def doc_generator(input_docs_array):\n",
    "    for i, doc in enumerate(input_docs_array):\n",
    "        tokens = gensim.utils.simple_preprocess(doc)\n",
    "        yield gensim.models.doc2vec.TaggedDocument(tokens, [i])"
   ]
  },
  {
   "cell_type": "code",
   "execution_count": 10,
   "metadata": {
    "colab": {},
    "colab_type": "code",
    "id": "t7ZvV6OTC23Q"
   },
   "outputs": [],
   "source": [
    "X = doc_generator(X_raw)"
   ]
  },
  {
   "cell_type": "markdown",
   "metadata": {
    "colab_type": "text",
    "id": "AHy9VORiC23V"
   },
   "source": [
    "### Create Initial Doc2Vec Model and Training\n",
    "\n",
    "#### Skip to next section to work load in a pretrained model.  Training could take a potentially long time.\n",
    "\n",
    "We conduct the replication to Document Embedding with Paragraph Vectors (http://arxiv.org/abs/1507.07998). In this paper, they showed only DBOW results to NSF data. So we replicate this experiments using not only DBOW but also DM.\n"
   ]
  },
  {
   "cell_type": "code",
   "execution_count": 11,
   "metadata": {
    "colab": {
     "base_uri": "https://localhost:8080/",
     "height": 154
    },
    "colab_type": "code",
    "id": "ArrJv_dvC23W",
    "outputId": "e5ac4c70-8b29-4bc6-de7f-7dc1b252a475"
   },
   "outputs": [
    {
     "name": "stdout",
     "output_type": "stream",
     "text": [
      "CPU times: user 34 µs, sys: 5 µs, total: 39 µs\n",
      "Wall time: 43.9 µs\n"
     ]
    }
   ],
   "source": [
    "%%time\n",
    "import multiprocessing\n",
    "from pprint import pprint\n",
    "cores = multiprocessing.cpu_count()\n",
    "\n",
    "#It is training 100 epochs in 300 dimension vector space\n",
    "#models = [\n",
    "    # PV-DBOW \n",
    "#    Doc2Vec(dm=0, dbow_words=1, size=300, window=8, min_count=1, iter=100, workers=cores),\n",
    "    # PV-DM w/average\n",
    "    #Doc2Vec(dm=1, dm_mean=1, size=300, window=8, min_count=1, iter =100, workers=cores),\n",
    "#]\n",
    "\n",
    "#models[0].build_vocab(doc_generator(X_raw))\n",
    "#print(str(models[0]))\n",
    "#models[1].reset_from(models[0])\n",
    "#print(str(models[1]))"
   ]
  },
  {
   "cell_type": "code",
   "execution_count": 12,
   "metadata": {
    "colab": {
     "base_uri": "https://localhost:8080/",
     "height": 138
    },
    "colab_type": "code",
    "id": "c5QCW4n32P7-",
    "outputId": "42212ea2-54a7-4b7c-aa78-95ecb4b90be4"
   },
   "outputs": [
    {
     "name": "stdout",
     "output_type": "stream",
     "text": [
      "CPU times: user 2 µs, sys: 0 ns, total: 2 µs\n",
      "Wall time: 5.72 µs\n"
     ]
    }
   ],
   "source": [
    "%%time \n",
    "#for i, model in enumerate(models):\n",
    "#    model.train(doc_generator(X_raw), total_examples=len(X_raw), epochs=model.iter)\n",
    "#    model.save(str(i)+'nsf_doc2v.model')\n",
    "    \n",
    "#print(\"Doc2Vec Embedding Shape:\",model.docvecs.vectors_docs.shape)"
   ]
  },
  {
   "cell_type": "markdown",
   "metadata": {},
   "source": [
    "##OTHER Method"
   ]
  },
  {
   "cell_type": "code",
   "execution_count": 13,
   "metadata": {},
   "outputs": [
    {
     "name": "stdout",
     "output_type": "stream",
     "text": [
      "CPU times: user 3 µs, sys: 1 µs, total: 4 µs\n",
      "Wall time: 5.96 µs\n"
     ]
    }
   ],
   "source": [
    "%%time\n",
    "#model = Doc2Vec(vector_size=300, window=8, min_count=1, workers=4)\n",
    "#model.build_vocab(documents=doc_generator(X_raw))\n",
    "#model.train(doc_generator(X_raw), total_examples=num_of_docs, epochs=100)\n",
    "#model.save('nsf_doc2vec.model')"
   ]
  },
  {
   "cell_type": "code",
   "execution_count": 14,
   "metadata": {
    "colab": {},
    "colab_type": "code",
    "id": "mr5BKOvDC23c"
   },
   "outputs": [],
   "source": [
    "# model.train(doc_generator(X_raw), total_examples=num_of_docs, epochs=1)\n",
    "# model.save('nsf_doc2vec.model')"
   ]
  },
  {
   "cell_type": "markdown",
   "metadata": {
    "colab_type": "text",
    "id": "gs7Qc0KOC23h"
   },
   "source": [
    "### Load Existing Model"
   ]
  },
  {
   "cell_type": "code",
   "execution_count": 40,
   "metadata": {
    "colab": {
     "base_uri": "https://localhost:8080/",
     "height": 70
    },
    "colab_type": "code",
    "id": "hJbB9-JzC23k",
    "outputId": "fc10c443-1d21-48cc-cb81-cee045bae332"
   },
   "outputs": [],
   "source": [
    "existing_model = '0nsf_doc2v.model' #'0nsf_doc2v.model' #'nsf_d2v_100.model' # Name of Existing model to load\n",
    "model = gensim.models.Doc2Vec.load(str(existing_model)) # Model is assumed to be in the shared folder"
   ]
  },
  {
   "cell_type": "markdown",
   "metadata": {
    "colab_type": "text",
    "id": "slapVISDC23n"
   },
   "source": [
    "### Testing Doc2Vec Model\n",
    "\n",
    "1. Infer Embedding Vecor for a New Abstract\n",
    "2. Generating Most Similar Articles based on document cluster. This is using cosine similary score.\n",
    "3. Storing the most similar files to S3 bucket.\n",
    "\n",
    "\n",
    "#### 1. Infer Embedding Vecor for a New Abstract\n",
    "\n",
    "First, calculating cosine similarity of New Text using Paragraph Vector. Word Vector and Document Vector are separately stored. We have to add .docvecs after model name to extract Document Vector from Doc2Vec Model."
   ]
  },
  {
   "cell_type": "code",
   "execution_count": 16,
   "metadata": {
    "colab": {
     "base_uri": "https://localhost:8080/",
     "height": 202
    },
    "colab_type": "code",
    "id": "w_o5Knh0i6Qk",
    "outputId": "d102ee6c-25f1-487f-a2b2-02f3a15bf574"
   },
   "outputs": [
    {
     "name": "stdout",
     "output_type": "stream",
     "text": [
      "--2020-04-17 03:59:20--  https://nsfdata.s3.amazonaws.com/input.txt\n",
      "Resolving nsfdata.s3.amazonaws.com (nsfdata.s3.amazonaws.com)... 52.216.163.11\n",
      "Connecting to nsfdata.s3.amazonaws.com (nsfdata.s3.amazonaws.com)|52.216.163.11|:443... connected.\n",
      "HTTP request sent, awaiting response... 200 OK\n",
      "Length: 1758 (1.7K) [text/plain]\n",
      "Saving to: ‘input.txt.3’\n",
      "\n",
      "input.txt.3         100%[===================>]   1.72K  --.-KB/s    in 0s      \n",
      "\n",
      "2020-04-17 03:59:20 (111 MB/s) - ‘input.txt.3’ saved [1758/1758]\n",
      "\n"
     ]
    }
   ],
   "source": [
    "!wget https://nsfdata.s3.amazonaws.com/input.txt"
   ]
  },
  {
   "cell_type": "code",
   "execution_count": 17,
   "metadata": {
    "colab": {},
    "colab_type": "code",
    "id": "iEDLXN2-jSmj"
   },
   "outputs": [],
   "source": [
    "with open('./input.txt', 'rb') as file_stream:\n",
    "    text = file_stream.read().decode('utf-8')"
   ]
  },
  {
   "cell_type": "markdown",
   "metadata": {},
   "source": [
    "# FOR CUSTOM USER ABSTRACT INPUT - Update below text variable value"
   ]
  },
  {
   "cell_type": "code",
   "execution_count": 18,
   "metadata": {
    "colab": {
     "base_uri": "https://localhost:8080/",
     "height": 104
    },
    "colab_type": "code",
    "id": "D4T1hmbghnFx",
    "outputId": "5e310518-7b6c-41b1-b70d-4bf99915d4c7"
   },
   "outputs": [
    {
     "name": "stdout",
     "output_type": "stream",
     "text": [
      "This study utilizes publicly available data from the National Science Foundation (NSF) Web Application Programming Interface (API). In this paper, various machine learning techniques are demonstrated to explore, analyze and recommend similar proposal abstracts to aid the NSF or Awardee with the Merit Review Process. These techniques extract textual context and group it with similar context. The goal of the analysis was to utilize a Doc2Vec unsupervised learning algorithms to embed NSF funding proposal abstracts text into vector space.  Once vectorized, the abstracts were grouped together using K-means clustering. These techniques together proved to be successful at grouping similar proposals together and could be used to find similar proposals to newly submitted NSF funding proposals. \r\n",
      "To perform text analysis, SAS® University Edition is used which supports SASPy, SAS® Studio and Python JupyterLab. Gensim Doc2vec is used to generate document vectors for proposal abstracts. Afterwards, document vectors were used to cluster similar abstracts using SAS® Studio KMeans Clustering Module. For visualization, the abstract embeddings were reduced to two dimensions using Principal Component Analysis (PCA) within SAS® Studio. This was then compared to a t-Distributed Stochastic Neighbor Embedding (t-SNE) dimensionality reduction technique as part of the Scikit-learn machine learning toolkit for Python.\r\n",
      "Conclusively, NSF proposal abstract text analysis can help an awardee read and improve their proposal model by identifying similar proposal abstracts from the last 24 years. It could also help NSF evaluators identify similar existing proposals that indirectly provides insights on whether a new proposal is going to be fruitful or not.\r\n",
      "\n"
     ]
    }
   ],
   "source": [
    "#text = \"\"\"This study utilizes publicly available data from the National Science Foundation (NSF) Web Application Programming Interface (API). In this paper, various machine learning techniques are demonstrated to explore, analyze and recommend similar proposal abstracts to aid the NSF or Awardee with the Merit Review Process. These techniques extract textual context and group it with similar context. The goal of the analysis was to utilize a Doc2Vec unsupervised learning algorithms to embed NSF funding proposal abstracts text into vector space.  Once vectorized, the abstracts were grouped together using K-means clustering. These techniques together proved to be successful at grouping similar proposals together and could be used to find similar proposals to newly submitted NSF funding proposals. To perform text analysis, SAS® University Edition is used which supports SASPy, SAS® Studio and Python JupyterLab. Gensim Doc2vec is used to generate document vectors for proposal abstracts. Afterwards, document vectors were used to cluster similar abstracts using SAS® Studio KMeans Clustering Module. For visualization, the abstract embeddings were reduced to two dimensions using Principal Component Analysis (PCA) within SAS® Studio. This was then compared to a t-Distributed Stochastic Neighbor Embedding (t-SNE) dimensionality reduction technique as part of the Scikit-learn machine learning toolkit for Python.Conclusively, NSF proposal abstract text analysis can help an awardee read and improve their proposal model by identifying similar proposal abstracts from the last 24 years. It could also help NSF evaluators identify similar existing proposals that indirectly provides insights on whether a new proposal is going to be fruitful or not.\"\"\"\n",
    "print(text)"
   ]
  },
  {
   "cell_type": "code",
   "execution_count": 19,
   "metadata": {
    "colab": {},
    "colab_type": "code",
    "id": "9UVA8d2kC23o"
   },
   "outputs": [],
   "source": [
    "test_vector = model.infer_vector(gensim.utils.simple_preprocess(text))"
   ]
  },
  {
   "cell_type": "code",
   "execution_count": 20,
   "metadata": {
    "colab": {
     "base_uri": "https://localhost:8080/",
     "height": 1000
    },
    "colab_type": "code",
    "id": "woPjuZXDC23s",
    "outputId": "a03d413f-1391-4a0d-e9c4-dc4544c227cf"
   },
   "outputs": [
    {
     "data": {
      "text/plain": [
       "array([-7.25775585e-02, -5.57031870e-01,  6.69417799e-01,  4.46947575e-01,\n",
       "       -1.70384920e+00, -6.58859491e-01, -6.52592927e-02,  6.26584530e-01,\n",
       "       -1.43293905e+00,  9.31003392e-01, -1.62645832e-01,  1.30462810e-01,\n",
       "       -1.31180871e+00,  4.55911577e-01,  1.12497248e-01, -7.34875724e-02,\n",
       "        1.34455514e+00,  1.95934862e-01,  7.87647903e-01, -1.34009421e-01,\n",
       "        5.23046136e-01,  5.31487703e-01,  5.20799458e-01, -2.56483734e-01,\n",
       "        8.64075541e-01,  2.54420936e-01, -6.63086534e-01, -1.37219131e-01,\n",
       "       -4.47274178e-01,  6.99588180e-01, -7.66095400e-01,  7.78913777e-03,\n",
       "        3.42206925e-01, -1.46842778e-01,  4.58635688e-01, -5.77536345e-01,\n",
       "       -5.92268586e-01, -9.92954195e-01,  5.41749537e-01, -6.72993541e-01,\n",
       "        5.24993181e-01,  1.07623406e-01, -8.39666605e-01,  6.64346099e-01,\n",
       "        6.74897075e-01, -2.28553519e-01,  1.52662590e-01, -1.46814391e-01,\n",
       "       -3.94025832e-01,  7.21900463e-01,  9.37481344e-01, -4.35221583e-01,\n",
       "        1.19576883e+00,  3.37679178e-01, -6.17546380e-01,  2.95542479e-01,\n",
       "       -5.04218400e-01,  1.71337396e-01, -8.50037932e-01,  2.45118767e-01,\n",
       "        1.14572287e+00,  8.20857659e-03,  2.23157838e-01, -9.82870907e-02,\n",
       "       -2.12088928e-01,  3.09828371e-01, -4.64542031e-01,  1.24889660e+00,\n",
       "       -3.71431589e-01, -1.23586214e+00, -1.13903570e+00, -4.10155565e-01,\n",
       "        3.82453538e-02,  2.70683229e-01,  4.00158674e-01,  9.29387361e-02,\n",
       "        3.91945034e-01,  4.99096155e-01,  1.75494865e-01,  1.91384089e+00,\n",
       "       -1.32651341e+00, -6.82432234e-01,  8.91407013e-01,  2.39148647e-01,\n",
       "       -4.83686328e-01, -5.81054747e-01, -3.95692080e-01, -9.19729888e-01,\n",
       "       -9.05585065e-02,  6.80248737e-02,  2.67395705e-01, -5.16736865e-01,\n",
       "        1.74585447e-01, -4.52352285e-01, -1.12837501e-01,  2.55820125e-01,\n",
       "        4.74612623e-01, -1.31681883e+00,  1.17033102e-01, -5.52683592e-01,\n",
       "       -2.93863773e-01, -4.78941619e-01, -1.19570076e+00, -4.29529756e-01,\n",
       "        1.98488429e-01,  2.81562597e-01,  1.00797117e+00,  7.22294927e-01,\n",
       "        1.08488786e+00, -1.02371383e+00, -6.26194835e-01,  4.63234991e-01,\n",
       "       -3.21061045e-01,  4.80296910e-01, -1.26248315e-01,  9.88633931e-01,\n",
       "       -6.94262803e-01, -3.55494261e-01, -1.51196718e-01,  3.23421568e-01,\n",
       "        3.70548934e-01, -8.15423846e-01, -3.95307094e-01, -4.73006725e-01,\n",
       "        4.59514529e-01,  7.78710127e-01,  5.93432426e-01, -4.93958533e-01,\n",
       "        3.03896964e-02,  2.38932520e-01, -8.09286177e-01,  1.64971147e-02,\n",
       "       -7.94341683e-01, -1.95475304e+00,  4.96740907e-01, -1.49242056e-03,\n",
       "        2.32944489e-01, -2.31122389e-01,  2.80381769e-01,  1.33627260e+00,\n",
       "       -8.47057462e-01, -1.45763293e-01, -1.01656117e-01, -7.41016746e-01,\n",
       "        7.36077055e-02,  2.90396869e-01,  2.30488569e-01,  2.34522060e-01,\n",
       "        1.93740167e-02, -3.00710410e-01, -9.44035202e-02,  1.24291718e+00,\n",
       "       -3.08760107e-01,  1.70435876e-01,  7.26681709e-01,  3.34872246e-01,\n",
       "        3.38135809e-01, -6.74030364e-01, -4.99013603e-01, -1.90111995e-02,\n",
       "       -4.63642478e-01,  6.77985132e-01, -1.48583516e-01, -1.09190166e-01,\n",
       "        8.58652055e-01, -1.20236683e+00,  7.59784579e-01, -3.01241755e-01,\n",
       "       -2.45503217e-01, -3.28243047e-01, -6.10871792e-01, -1.28583804e-01,\n",
       "        1.10394716e+00,  8.91349137e-01,  1.68578014e-01, -4.46621507e-01,\n",
       "       -1.48959262e-02,  1.01976502e+00, -4.38138336e-01,  1.17939293e+00,\n",
       "        2.54918009e-01,  4.41208273e-01,  7.84008384e-01, -4.98341203e-01,\n",
       "       -7.34931529e-01, -2.50047892e-01, -6.50878429e-01,  9.62536335e-01,\n",
       "       -1.14408962e-01, -3.80105786e-02, -5.56029022e-01, -8.98029655e-02,\n",
       "       -4.88438696e-01, -5.09200752e-01, -9.78901088e-01, -3.10508251e-01,\n",
       "       -2.76619699e-02, -1.13027640e-01,  3.82562540e-02, -3.66732597e-01,\n",
       "        1.29648954e-01, -4.49953116e-02,  4.33545768e-01, -1.94525614e-01,\n",
       "       -3.31679061e-02,  6.26214802e-01, -5.85019551e-02, -9.56725419e-01,\n",
       "       -2.93009519e-03, -3.77725035e-01, -1.40941618e-02,  1.51018370e-02,\n",
       "        7.57677332e-02, -2.35861525e-01, -1.78721082e+00,  9.47009861e-01,\n",
       "       -4.33873951e-01,  1.31707013e-01, -7.06045747e-01,  5.88452995e-01,\n",
       "        9.28749561e-01,  7.56941020e-01,  5.37971891e-02,  4.84633625e-01,\n",
       "        2.26202786e-01, -1.93744034e-01,  2.92120993e-01, -2.94850711e-02,\n",
       "        2.09378457e+00,  1.89625889e-01, -3.20961356e-01,  2.84826249e-01,\n",
       "       -9.09373522e-01,  6.27767861e-01,  5.98145604e-01,  1.34490561e+00,\n",
       "       -9.12890673e-01, -7.95564950e-01, -7.75214136e-01, -9.33826566e-01,\n",
       "        2.82472044e-01, -1.77106798e-01,  7.95738339e-01, -8.63486528e-02,\n",
       "       -8.61327708e-01, -1.75555333e-01,  4.57384646e-01,  6.91139877e-01,\n",
       "        1.41489744e-01,  2.27323741e-01, -4.52213645e-01, -5.03889382e-01,\n",
       "       -1.70116246e-01,  4.08555716e-01, -6.75518394e-01,  6.51484774e-03,\n",
       "       -5.68848439e-02, -6.60921156e-01,  1.00936629e-01,  7.37423658e-01,\n",
       "        5.80967605e-01, -1.95739642e-01,  4.50128734e-01,  5.78400970e-01,\n",
       "        8.32316518e-01, -1.67746902e-01, -5.52040398e-01, -8.93449903e-01,\n",
       "        4.19047147e-01, -1.24220395e+00,  6.30707145e-01, -3.17498147e-01,\n",
       "        2.21938297e-01, -2.81319264e-02,  7.60755777e-01,  7.86971807e-01,\n",
       "        3.77736203e-02, -7.41074145e-01,  6.11755289e-02,  2.35581890e-01,\n",
       "       -7.38889053e-02, -5.25626361e-01,  5.14492691e-01, -4.26686466e-01,\n",
       "       -4.79766447e-03,  4.74751383e-01,  4.25283499e-02,  3.28302264e-01,\n",
       "       -6.26325235e-03,  1.66756976e-02, -1.06258519e-01,  8.06593150e-02,\n",
       "        1.90673485e-01, -8.55031967e-01,  1.94474548e-01,  4.32317764e-01,\n",
       "        1.71464396e+00,  6.77711666e-01, -4.01721597e-01, -9.44975197e-01],\n",
       "      dtype=float32)"
      ]
     },
     "execution_count": 20,
     "metadata": {},
     "output_type": "execute_result"
    }
   ],
   "source": [
    "test_vector"
   ]
  },
  {
   "cell_type": "markdown",
   "metadata": {
    "colab_type": "text",
    "id": "8ukx9sWJfjCa"
   },
   "source": [
    "#### 2. Generating Most Similar Articles based on document cluster. This is using cosine similary score."
   ]
  },
  {
   "cell_type": "code",
   "execution_count": 41,
   "metadata": {
    "colab": {
     "base_uri": "https://localhost:8080/",
     "height": 121
    },
    "colab_type": "code",
    "id": "MZ8dZDfPC23v",
    "outputId": "d336034e-4a84-4b74-f430-9dad9bd712ba"
   },
   "outputs": [
    {
     "name": "stdout",
     "output_type": "stream",
     "text": [
      "[(180443, 0.28728967905044556), (229192, 0.2774297595024109), (183100, 0.2724209427833557)]\n"
     ]
    }
   ],
   "source": [
    "similar = model.docvecs.most_similar(\n",
    "    positive=[test_vector], \n",
    "    topn=3)\n",
    "print(similar)"
   ]
  },
  {
   "cell_type": "code",
   "execution_count": 42,
   "metadata": {},
   "outputs": [
    {
     "data": {
      "text/plain": [
       "'abstract\\n\\niis - 0836181   \\nframework for a general multimedia workbench\\nbyrd, donald, indiana university\\n\\nthis sger project will pursue the development of a general framework for exploring and editing time-dependent multimedia using a variety of coordinated visualizations and sonifications.  it enhances contemporary methods of content-based searching and retrieval of musical information from online databases and stored in a variety of formats ranging from encoded score files to digital audio.  the type of system proposed would for the first time make it possible for scholars to compare relationships among musical works and among versions of the same work in a new flexible ways. the underlying general problem addressed in the project of a framework supporting combinations of visualizations and sonifications  in a modular framework allows the results to apply to temporal phenomena generally across disciplinary domains.'"
      ]
     },
     "execution_count": 42,
     "metadata": {},
     "output_type": "execute_result"
    }
   ],
   "source": [
    "X_raw[similar[0][0]]"
   ]
  },
  {
   "cell_type": "markdown",
   "metadata": {
    "colab_type": "text",
    "id": "yw_EKxCmfzZT"
   },
   "source": [
    "3. Storing the most similar files to S3 bucket."
   ]
  },
  {
   "cell_type": "code",
   "execution_count": 23,
   "metadata": {
    "colab": {},
    "colab_type": "code",
    "id": "vnnZTNlBIWTT"
   },
   "outputs": [],
   "source": [
    "# file = open('top1.txt', 'w',encoding=\"utf-8\")\n",
    "# file.write(X_raw[similar[0][0]])\n",
    "# file.close()"
   ]
  },
  {
   "cell_type": "code",
   "execution_count": 24,
   "metadata": {
    "colab": {},
    "colab_type": "code",
    "id": "WX7zmH6oC23y"
   },
   "outputs": [],
   "source": [
    "# file = open('top2.txt', 'w',encoding=\"utf-8\")\n",
    "# file.write(X_raw[similar[1][0]])\n",
    "# file.close()"
   ]
  },
  {
   "cell_type": "code",
   "execution_count": 25,
   "metadata": {
    "colab": {},
    "colab_type": "code",
    "id": "5FWQ2EF8C24H"
   },
   "outputs": [],
   "source": [
    "# file = open('top3.txt', 'w',encoding=\"utf-8\")\n",
    "# file.write(X_raw[similar[2][0]])\n",
    "# file.close()"
   ]
  },
  {
   "cell_type": "code",
   "execution_count": 26,
   "metadata": {},
   "outputs": [
    {
     "data": {
      "text/plain": [
       "{'ResponseMetadata': {'RequestId': '64F3A14308EE35B2',\n",
       "  'HostId': 'SD3KACeltyQwl5sgDxXVsb/jKljcgdJfa6HrPsArzpFxVei3MWOnzo/M6FyA6Zj0okq68JioPkM=',\n",
       "  'HTTPStatusCode': 200,\n",
       "  'HTTPHeaders': {'x-amz-id-2': 'SD3KACeltyQwl5sgDxXVsb/jKljcgdJfa6HrPsArzpFxVei3MWOnzo/M6FyA6Zj0okq68JioPkM=',\n",
       "   'x-amz-request-id': '64F3A14308EE35B2',\n",
       "   'date': 'Fri, 17 Apr 2020 03:59:22 GMT',\n",
       "   'etag': '\"3bc1e4f25546d98b8cc9fff3c4189309\"',\n",
       "   'content-length': '0',\n",
       "   'server': 'AmazonS3'},\n",
       "  'RetryAttempts': 0},\n",
       " 'ETag': '\"3bc1e4f25546d98b8cc9fff3c4189309\"'}"
      ]
     },
     "execution_count": 26,
     "metadata": {},
     "output_type": "execute_result"
    }
   ],
   "source": [
    "import boto3\n",
    "s3_conn = boto3.client(\"s3\")\n",
    "s3 = boto3.resource('s3')\n",
    "object = s3.Object('nsfdata', 'top1.txt')\n",
    "object.put(Body=X_raw[similar[0][0]])"
   ]
  },
  {
   "cell_type": "markdown",
   "metadata": {
    "colab": {},
    "colab_type": "code",
    "id": "2G0n0VRaC24J"
   },
   "source": [
    "###  MphasisDeepInsightsTextSummarizer"
   ]
  },
  {
   "cell_type": "markdown",
   "metadata": {
    "colab_type": "text",
    "id": "LjVXD-4jhnGK"
   },
   "source": [
    "### Create the session\n",
    "\n",
    "The session remembers our connection parameters to SageMaker. We'll use it to perform all of our SageMaker operations."
   ]
  },
  {
   "cell_type": "code",
   "execution_count": 27,
   "metadata": {
    "colab": {
     "base_uri": "https://localhost:8080/",
     "height": 374
    },
    "colab_type": "code",
    "id": "ThbzqpNFkEeS",
    "outputId": "f816d871-9c3b-4244-cc39-d0105cdc2150"
   },
   "outputs": [],
   "source": [
    "import sagemaker as sage\n",
    "from time import gmtime, strftime\n",
    "from sagemaker import get_execution_role\n",
    "\n",
    "sess = sage.Session()\n",
    "role = get_execution_role()"
   ]
  },
  {
   "cell_type": "markdown",
   "metadata": {
    "colab_type": "text",
    "id": "JTTJoGXrhnGM"
   },
   "source": [
    "## Create Model\n",
    "\n",
    "Now we use the Model Package to create a model,\n",
    "\n",
    "# PLEASE CHANGE MphasisDeepInsightsTextSummarizer Product ARN\n",
    "\n",
    "## Make sure you update model_package_arn to product arn which you retrieved from marketplace-text-summarizer\n"
   ]
  },
  {
   "cell_type": "code",
   "execution_count": 28,
   "metadata": {
    "colab": {},
    "colab_type": "code",
    "id": "0VdfpjcehnGN"
   },
   "outputs": [],
   "source": [
    "# Please use the appropriate ARN obtained after subscribing to the model to define 'model_package_arn'\n",
    "##OHIO REGION\n",
    "#model_package_arn = 'arn:aws:sagemaker:us-east-2:057799348421:model-package/marketplace-text-summarizer-11-d2490248e8de20f24ae3b72d0d74654c'\n",
    "\n",
    "##North Virginia Region\n",
    "model_package_arn = 'arn:aws:sagemaker:us-east-1:865070037744:model-package/marketplace-text-summarizer-11-d2490248e8de20f24ae3b72d0d74654c'\n",
    "\n",
    "from sagemaker import ModelPackage\n",
    "import sagemaker as sage\n",
    "from sagemaker import get_execution_role\n",
    "\n",
    "role = get_execution_role()\n",
    "sagemaker_session = sage.Session()\n",
    "model = ModelPackage(model_package_arn=model_package_arn,\n",
    "                    role = role,\n",
    "                    sagemaker_session = sagemaker_session)"
   ]
  },
  {
   "cell_type": "markdown",
   "metadata": {
    "colab_type": "text",
    "id": "YPPl9wQ-hnGP"
   },
   "source": [
    "## Input File\n",
    "\n",
    "Now we pull a sample input file for testing the model."
   ]
  },
  {
   "cell_type": "code",
   "execution_count": 29,
   "metadata": {
    "colab": {},
    "colab_type": "code",
    "id": "uRE7YW7yhnGQ"
   },
   "outputs": [],
   "source": [
    "top1_txt=\"s3://nsfdata/top1.txt\""
   ]
  },
  {
   "cell_type": "markdown",
   "metadata": {
    "colab_type": "text",
    "id": "7rBN7cQLhnGU"
   },
   "source": [
    "## Batch Transform Job\n",
    "\n",
    "Now let's use the model built to run a batch inference job and verify it works."
   ]
  },
  {
   "cell_type": "code",
   "execution_count": 30,
   "metadata": {
    "colab": {},
    "colab_type": "code",
    "id": "ul_Wsbb1hnGV",
    "outputId": "7d3504fe-061d-4179-c793-350ad57e0cb7",
    "scrolled": true
   },
   "outputs": [
    {
     "name": "stdout",
     "output_type": "stream",
     "text": [
      "............................\u001b[35m2020-04-17T04:03:56.919:[sagemaker logs]: MaxConcurrentTransforms=1, MaxPayloadInMB=6, BatchStrategy=MULTI_RECORD\u001b[0m\n",
      "\u001b[34m * Serving Flask app \"serve\" (lazy loading)\n",
      " * Environment: production\n",
      "   WARNING: This is a development server. Do not use it in a production deployment.\n",
      "   Use a production WSGI server instead.\n",
      " * Debug mode: off\n",
      " * Running on http://0.0.0.0:8080/ (Press CTRL+C to quit)\u001b[0m\n",
      "\u001b[34m169.254.255.130 - - [17/Apr/2020 04:03:56] \"#033[37mGET /ping HTTP/1.1#033[0m\" 200 -\u001b[0m\n",
      "\u001b[34m169.254.255.130 - - [17/Apr/2020 04:03:56] \"#033[33mGET /execution-parameters HTTP/1.1#033[0m\" 404 -\u001b[0m\n",
      "\u001b[34m---input--- abstract\n",
      "\u001b[0m\n",
      "\u001b[34miis - 0836181   \u001b[0m\n",
      "\u001b[34mframework for a general multimedia workbench\u001b[0m\n",
      "\u001b[34mbyrd, donald, indiana university\n",
      "\u001b[0m\n",
      "\u001b[34mthis sger project will pursue the development of a general framework for exploring and editing time-dependent multimedia using a variety of coordinated visualizations and sonifications.  it enhances contemporary methods of content-based searching and retrieval of musical information from online databases and stored in a variety of formats ranging from encoded score files to digital audio.  the type of system proposed would for the first time make it possible for scholars to compare relationships among musical works and among versions of the same work in a new flexible ways. the underlying general problem addressed in the project of a framework supporting combinations of visualizations and sonifications  in a modular framework allows the results to apply to temporal phenomena generally across disciplinary domains.\u001b[0m\n",
      "\u001b[34m----in bert text to json--------- [{'src': [['abstract', 'iis', '-', '0836181', 'framework', 'for', 'a', 'general', 'multimedia', 'workbench', 'byrd', ',', 'donald', ',', 'indiana', 'university', 'this', 'sger', 'project', 'will', 'pursue', 'the', 'development', 'of', 'a', 'general', 'framework', 'for', 'exploring', 'and', 'editing', 'time-dependent', 'multimedia', 'using', 'a', 'variety', 'of', 'coordinated', 'visualizations', 'and', 'sonifications', '.'], ['it', 'enhances', 'contemporary', 'methods', 'of', 'content-based', 'searching', 'and', 'retrieval', 'of', 'musical', 'information', 'from', 'online', 'databases', 'and', 'stored', 'in', 'a', 'variety', 'of', 'formats', 'ranging', 'from', 'encoded', 'score', 'files', 'to', 'digital', 'audio', '.'], ['the', 'type', 'of', 'system', 'proposed', 'would', 'for', 'the', 'first', 'time', 'make', 'it', 'possible', 'for', 'scholars', 'to', 'compare', 'relationships', 'among', 'musical', 'works', 'and', 'among', 'versions', 'of', 'the', 'same', 'work', 'in', 'a', 'new', 'flexible', 'ways', '.'], ['the', 'underlying', 'general', 'problem', 'addressed', 'in', 'the', 'project', 'of', 'a', 'framework', 'supporting', 'combinations', 'of', 'visualizations', 'and', 'sonifications', 'in', 'a', 'modular', 'framework', 'allows', 'the', 'results', 'to', 'apply', 'to', 'temporal', 'phenomena', 'generally', 'across', 'disciplinary', 'domains', '.']], 'tgt': [['no', 'summary', 'found']]}]\u001b[0m\n",
      "\u001b[34m[]\u001b[0m\n",
      "\u001b[34m[('../json_data/cnndm.valid.0.json', Namespace(dataset='', log_file='../logs/preprocess.log', lower=True, map_path='../data/', max_nsents=100, max_src_ntokens=200, min_nsents=3, min_src_ntokens=5, mode='format_to_bert', n_cpus=4, oracle_mode='greedy', raw_path='../json_data', save_path='../json_data', shard_size=2000), '../json_data/cnndm.valid.0.bert.pt')]\u001b[0m\n",
      "\u001b[34m[2020-04-17 04:03:57,609 INFO] loading vocabulary file ../json_data/vocab.txt\u001b[0m\n",
      "\u001b[34m[2020-04-17 04:03:57,636 INFO] Processing ../json_data/cnndm.valid.0.json\u001b[0m\n",
      "\u001b[34m[2020-04-17 04:03:57,639 INFO] Saving to ../json_data/cnndm.valid.0.bert.pt\u001b[0m\n",
      "\u001b[34m[('../json_data/cnndm.test.0.json', Namespace(dataset='', log_file='../logs/preprocess.log', lower=True, map_path='../data/', max_nsents=100, max_src_ntokens=200, min_nsents=3, min_src_ntokens=5, mode='format_to_bert', n_cpus=4, oracle_mode='greedy', raw_path='../json_data', save_path='../json_data', shard_size=2000), '../json_data/cnndm.test.0.bert.pt')]\u001b[0m\n",
      "\u001b[34m[2020-04-17 04:03:57,719 INFO] loading vocabulary file ../json_data/vocab.txt\u001b[0m\n",
      "\u001b[34m[2020-04-17 04:03:57,746 INFO] Processing ../json_data/cnndm.test.0.json\u001b[0m\n",
      "\u001b[34m[2020-04-17 04:03:57,749 INFO] Saving to ../json_data/cnndm.test.0.bert.pt\u001b[0m\n",
      "\u001b[34mlook at me: ../json_data/cnndm test\u001b[0m\n",
      "\u001b[34mfiles found :  ['../json_data/cnndm.test.0.bert.pt']\u001b[0m\n",
      "\u001b[34mgpu_rank 0\u001b[0m\n",
      "\u001b[34m------------inside train.py test_iter---------------- <models.data_loader.Dataloader object at 0x7fd6cd0f5668>\u001b[0m\n",
      "\u001b[34m---------------sent_scores-------------- tensor([[0.0182, 0.3729, 0.3840, 0.1905]])\u001b[0m\n",
      "\u001b[34m---------------mask--------------------- tensor([[1, 1, 1, 1]], dtype=torch.uint8)\u001b[0m\n",
      "\u001b[34m-----------------inside train.py pred------------------ ['the type of system proposed would for the first time make it possible for scholars to compare relationships among musical works and among versions of the same work in a new flexible ways .<q>it enhances contemporary methods of content-based searching and retrieval of musical information from online databases and stored in a variety of formats ranging from encoded score files to digital audio .<q>the underlying general problem addressed in the project of a framework supporting combinations of visualizations and sonifications in a modular framework allows the results to apply to temporal phenomena generally across disciplinary domains .']\u001b[0m\n",
      "\u001b[34m-----------------inside train.py gold------------------ ['no summary found']\u001b[0m\n",
      "\u001b[34m<_io.TextIOWrapper name='../json_data/results/_step50000.candidate' mode='w' encoding='ANSI_X3.4-1968'>\u001b[0m\n",
      "\u001b[34m-----combined----- the type of system proposed would for the first time make it possible for scholars to compare relationships among musical works and among versions of the same work in a new flexible ways .<q>it enhances contemporary methods of content-based searching and retrieval of musical information from online databases and stored in a variety of formats ranging from encoded score files to digital audio .<q>the underlying general problem addressed in the project of a framework supporting combinations of visualizations and sonifications in a modular framework allows the results to apply to temporal phenomena generally across disciplinary domains .\n",
      "\u001b[0m\n",
      "\u001b[34m---------------intermediate---------- the type of system proposed would for the first time make it possible for scholars to compare relationships among musical works and among versions of the same work in a new flexible ways .<q>it enhances contemporary methods of content-based searching and retrieval of musical information from online databases and stored in a variety of formats ranging from encoded score files to digital audio .<q>the underlying general problem addressed in the project of a framework supporting combinations of visualizations and sonifications in a modular framework allows the results to apply to temporal phenomena generally across disciplinary domains .\n",
      "\u001b[0m\n",
      "\u001b[34m------------in pretty summary----------------- the type of system proposed would for the first time make it possible for scholars to compare relationships among musical works and among versions of the same work in a new flexible ways .<q>it enhances contemporary methods of content-based searching and retrieval of musical information from online databases and stored in a variety of formats ranging from encoded score files to digital audio .<q>the underlying general problem addressed in the project of a framework supporting combinations of visualizations and sonifications in a modular framework allows the results to apply to temporal phenomena generally across disciplinary domains .\n",
      "\u001b[0m\n",
      "\u001b[34m------------------result------------- The type of system proposed would for the first time make it possible for scholars to compare relationships among musical works and among versions of the same work in a new flexible ways. It enhances contemporary methods of content-based searching and retrieval of musical information from online databases and stored in a variety of formats ranging from encoded score files to digital audio. The underlying general problem addressed in the project of a framework supporting combinations of visualizations and sonifications in a modular framework allows the results to apply to temporal phenomena generally across disciplinary domains.\u001b[0m\n",
      "\u001b[34m169.254.255.130 - - [17/Apr/2020 04:03:58] \"#033[37mPOST /invocations HTTP/1.1#033[0m\" 200 -\u001b[0m\n",
      "\u001b[34m2020-04-17T04:04:10.582:[sagemaker logs]: MaxConcurrentTransforms=1, MaxPayloadInMB=6, BatchStrategy=MULTI_RECORD\u001b[0m\n",
      "\u001b[33m * Serving Flask app \"serve\" (lazy loading)\n",
      " * Environment: production\n",
      "   WARNING: This is a development server. Do not use it in a production deployment.\n",
      "   Use a production WSGI server instead.\n",
      " * Debug mode: off\n",
      " * Running on http://0.0.0.0:8080/ (Press CTRL+C to quit)\u001b[0m\n",
      "\u001b[33m169.254.255.130 - - [17/Apr/2020 04:04:10] \"#033[37mGET /ping HTTP/1.1#033[0m\" 200 -\u001b[0m\n",
      "\u001b[33m169.254.255.130 - - [17/Apr/2020 04:04:10] \"#033[33mGET /execution-parameters HTTP/1.1#033[0m\" 404 -\u001b[0m\n",
      "\n",
      "Batch Transform complete\n"
     ]
    }
   ],
   "source": [
    "import json \n",
    "import uuid\n",
    "transformer = model.transformer(2, 'ml.m5.xlarge')\n",
    "transformer.output_path = \"s3://nsfdata/summerized-abstract\"\n",
    "transformer.transform(top1_txt, content_type='text/plain')\n",
    "transformer.wait()\n",
    "print(\"Batch Transform complete\")"
   ]
  },
  {
   "cell_type": "markdown",
   "metadata": {
    "colab_type": "text",
    "id": "YThSIa-ehnGX"
   },
   "source": [
    "## Output from Batch Transform\n",
    "\n",
    "Note: Ensure that the following package is installed on the local system : boto3"
   ]
  },
  {
   "cell_type": "code",
   "execution_count": 31,
   "metadata": {
    "colab": {},
    "colab_type": "code",
    "id": "zOehVNlDhnGX",
    "outputId": "1dda1784-b3a7-4a4b-9820-955c43c55fbf"
   },
   "outputs": [
    {
     "name": "stdout",
     "output_type": "stream",
     "text": [
      "s3://nsfdata/summerized-abstract\n"
     ]
    }
   ],
   "source": [
    "import boto3\n",
    "print(transformer.output_path)\n",
    "bucketFolder = transformer.output_path.rsplit('/')[3]\n",
    "#print(s3bucket,s3prefix)\n",
    "s3_conn = boto3.client(\"s3\")"
   ]
  },
  {
   "cell_type": "code",
   "execution_count": 32,
   "metadata": {
    "colab": {},
    "colab_type": "code",
    "id": "IelofWEDhnGZ",
    "outputId": "c80e27bc-c3be-4fa7-d20c-1cdfb0b48481"
   },
   "outputs": [
    {
     "name": "stdout",
     "output_type": "stream",
     "text": [
      "Output file loaded from bucket\n"
     ]
    }
   ],
   "source": [
    "bucket_name=\"nsfdata\"\n",
    "with open('result.txt', 'wb') as f:\n",
    "    s3_conn.download_fileobj(bucket_name,bucketFolder+'/top1.txt.out', f)\n",
    "    print(\"Output file loaded from bucket\")"
   ]
  },
  {
   "cell_type": "code",
   "execution_count": 33,
   "metadata": {
    "colab": {},
    "colab_type": "code",
    "id": "ShU-mX2fhnGb"
   },
   "outputs": [],
   "source": [
    "with open('./result.txt', 'rb') as file_stream:\n",
    "    output_text = file_stream.read().decode('utf-8')"
   ]
  },
  {
   "cell_type": "markdown",
   "metadata": {
    "colab_type": "text",
    "id": "-2Ydu5tPhnGc"
   },
   "source": [
    "#### Original Text Input"
   ]
  },
  {
   "cell_type": "code",
   "execution_count": 34,
   "metadata": {
    "colab": {},
    "colab_type": "code",
    "id": "lC20mx4MhnGd",
    "outputId": "3bdd6ae8-4deb-49ea-9b68-d04e5aa8062b"
   },
   "outputs": [
    {
     "name": "stdout",
     "output_type": "stream",
     "text": [
      "This study utilizes publicly available data from the National Science Foundation (NSF) Web Application Programming Interface (API). In this paper, various machine learning techniques are demonstrated to explore, analyze and recommend similar proposal abstracts to aid the NSF or Awardee with the Merit Review Process. These techniques extract textual context and group it with similar context. The goal of the analysis was to utilize a Doc2Vec unsupervised learning algorithms to embed NSF funding proposal abstracts text into vector space.  Once vectorized, the abstracts were grouped together using K-means clustering. These techniques together proved to be successful at grouping similar proposals together and could be used to find similar proposals to newly submitted NSF funding proposals. \r\n",
      "To perform text analysis, SAS® University Edition is used which supports SASPy, SAS® Studio and Python JupyterLab. Gensim Doc2vec is used to generate document vectors for proposal abstracts. Afterwards, document vectors were used to cluster similar abstracts using SAS® Studio KMeans Clustering Module. For visualization, the abstract embeddings were reduced to two dimensions using Principal Component Analysis (PCA) within SAS® Studio. This was then compared to a t-Distributed Stochastic Neighbor Embedding (t-SNE) dimensionality reduction technique as part of the Scikit-learn machine learning toolkit for Python.\r\n",
      "Conclusively, NSF proposal abstract text analysis can help an awardee read and improve their proposal model by identifying similar proposal abstracts from the last 24 years. It could also help NSF evaluators identify similar existing proposals that indirectly provides insights on whether a new proposal is going to be fruitful or not.\r\n",
      "\n"
     ]
    }
   ],
   "source": [
    "print(text)"
   ]
  },
  {
   "cell_type": "markdown",
   "metadata": {
    "colab_type": "text",
    "id": "UL2o6hDqhnGf"
   },
   "source": [
    "#### Similar abstract"
   ]
  },
  {
   "cell_type": "code",
   "execution_count": 35,
   "metadata": {
    "colab": {},
    "colab_type": "code",
    "id": "-Fnb5-1ShnGg",
    "outputId": "b86d3fe5-feed-4588-c3e7-33520c8ca5f0"
   },
   "outputs": [
    {
     "name": "stdout",
     "output_type": "stream",
     "text": [
      "Output file loaded from bucket\n"
     ]
    }
   ],
   "source": [
    "bucket_name=\"nsfdata\"\n",
    "with open('top1.txt', 'wb') as f:\n",
    "    s3_conn.download_fileobj(bucket_name,'top1.txt', f)\n",
    "    print(\"Output file loaded from bucket\")"
   ]
  },
  {
   "cell_type": "code",
   "execution_count": 36,
   "metadata": {
    "colab": {},
    "colab_type": "code",
    "id": "pyr6R3KXhnGi"
   },
   "outputs": [],
   "source": [
    "with open('./top1.txt', 'rb') as file_stream:\n",
    "    top1_text = file_stream.read().decode('utf-8')"
   ]
  },
  {
   "cell_type": "code",
   "execution_count": 37,
   "metadata": {
    "colab": {},
    "colab_type": "code",
    "id": "je59I3LQhnGj",
    "outputId": "882fc12a-fead-4bcf-c6cf-6130f0dd9a4f"
   },
   "outputs": [
    {
     "name": "stdout",
     "output_type": "stream",
     "text": [
      "abstract\n",
      "\n",
      "iis - 0836181   \n",
      "framework for a general multimedia workbench\n",
      "byrd, donald, indiana university\n",
      "\n",
      "this sger project will pursue the development of a general framework for exploring and editing time-dependent multimedia using a variety of coordinated visualizations and sonifications.  it enhances contemporary methods of content-based searching and retrieval of musical information from online databases and stored in a variety of formats ranging from encoded score files to digital audio.  the type of system proposed would for the first time make it possible for scholars to compare relationships among musical works and among versions of the same work in a new flexible ways. the underlying general problem addressed in the project of a framework supporting combinations of visualizations and sonifications  in a modular framework allows the results to apply to temporal phenomena generally across disciplinary domains.\n"
     ]
    }
   ],
   "source": [
    "print(top1_text)"
   ]
  },
  {
   "cell_type": "markdown",
   "metadata": {
    "colab_type": "text",
    "id": "DyNXd1R8hnGl"
   },
   "source": [
    "## Summary of similar abstract"
   ]
  },
  {
   "cell_type": "markdown",
   "metadata": {},
   "source": [
    "### Output is about content-based searching and retrieval of musical information files to digital audio similar to machine learning for abtract recommendation in input study. "
   ]
  },
  {
   "cell_type": "code",
   "execution_count": 38,
   "metadata": {
    "colab": {},
    "colab_type": "code",
    "id": "bLaDnrJjhnGm",
    "outputId": "563a5a21-492f-42a1-ec89-8de7dbbf2e6b"
   },
   "outputs": [
    {
     "name": "stdout",
     "output_type": "stream",
     "text": [
      "The type of system proposed would for the first time make it possible for scholars to compare relationships among musical works and among versions of the same work in a new flexible ways. It enhances contemporary methods of content-based searching and retrieval of musical information from online databases and stored in a variety of formats ranging from encoded score files to digital audio. The underlying general problem addressed in the project of a framework supporting combinations of visualizations and sonifications in a modular framework allows the results to apply to temporal phenomena generally across disciplinary domains.\n",
      "Execution time : 1.28seconds\n",
      "\n"
     ]
    }
   ],
   "source": [
    "print(output_text)"
   ]
  }
 ],
 "metadata": {
  "accelerator": "GPU",
  "colab": {
   "collapsed_sections": [],
   "name": "NSFFinal.ipynb",
   "provenance": [],
   "toc_visible": true
  },
  "kernelspec": {
   "display_name": "conda_tensorflow_p36",
   "language": "python",
   "name": "conda_tensorflow_p36"
  },
  "language_info": {
   "codemirror_mode": {
    "name": "ipython",
    "version": 3
   },
   "file_extension": ".py",
   "mimetype": "text/x-python",
   "name": "python",
   "nbconvert_exporter": "python",
   "pygments_lexer": "ipython3",
   "version": "3.6.6"
  }
 },
 "nbformat": 4,
 "nbformat_minor": 1
}
