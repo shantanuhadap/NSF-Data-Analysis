{
 "cells": [
  {
   "cell_type": "markdown",
   "metadata": {
    "colab_type": "text",
    "id": "x7ga2OGQC220"
   },
   "source": [
    "# Natural Language Processing using Doc2Vec on National Science Foundation Awards Abstracts\n",
    "---\n",
    "### Team:  \n",
    "Jacob Noble  \n",
    "Himanshu Gamit  \n",
    "Shantanu Hadap\n",
    "\n",
    "\n",
    "## 1. Pre-requisites: Sagemaker Jupyter Instance- ml.m5.xlarge and MphasisDeepInsightsTextSummarizer Product ARN\n",
    "\n",
    "1. Make sure you are in North Virginia Region.\n",
    "2. Go to https://aws.amazon.com/marketplace/pp/prodview-uzkcdmjuagetk and \n",
    "3. Subscribe and accept offer.\n",
    "3. Wait for a confirmation email and then Continue to Configuration.\n",
    "4. Select your launch method to SageMaker Console\n",
    "5. Go to Configure for Amazon SageMaker console\n",
    "6. Copy Prodcut arn keep it for later use. \n",
    "\n",
    "\n",
    "#### Make Sure to update product arn as highlighted below \n",
    "\n",
    "#### MphasisDeepInsightsTextSummarizer Product ARN\n",
    "\n",
    "## 2. FOR CUSTOM USER ABSTRACT INPUT Update text variable section highlighted below"
   ]
  },
  {
   "cell_type": "markdown",
   "metadata": {
    "colab_type": "text",
    "id": "tdOYaCrjC22-"
   },
   "source": [
    "### Imports\n"
   ]
  },
  {
   "cell_type": "code",
   "execution_count": 1,
   "metadata": {},
   "outputs": [
    {
     "name": "stdout",
     "output_type": "stream",
     "text": [
      "Requirement already satisfied: gensim in /home/ec2-user/anaconda3/envs/tensorflow_p36/lib/python3.6/site-packages (3.8.2)\n",
      "Requirement already satisfied: numpy>=1.11.3 in /home/ec2-user/anaconda3/envs/tensorflow_p36/lib/python3.6/site-packages (from gensim) (1.16.4)\n",
      "Requirement already satisfied: smart-open>=1.8.1 in /home/ec2-user/anaconda3/envs/tensorflow_p36/lib/python3.6/site-packages (from gensim) (1.11.1)\n",
      "Requirement already satisfied: scipy>=1.0.0 in /home/ec2-user/anaconda3/envs/tensorflow_p36/lib/python3.6/site-packages (from gensim) (1.4.1)\n",
      "Requirement already satisfied: six>=1.5.0 in /home/ec2-user/anaconda3/envs/tensorflow_p36/lib/python3.6/site-packages (from gensim) (1.11.0)\n",
      "Requirement already satisfied: requests in /home/ec2-user/anaconda3/envs/tensorflow_p36/lib/python3.6/site-packages (from smart-open>=1.8.1->gensim) (2.20.0)\n",
      "Requirement already satisfied: boto3 in /home/ec2-user/anaconda3/envs/tensorflow_p36/lib/python3.6/site-packages (from smart-open>=1.8.1->gensim) (1.12.24)\n",
      "Requirement already satisfied: boto in /home/ec2-user/anaconda3/envs/tensorflow_p36/lib/python3.6/site-packages (from smart-open>=1.8.1->gensim) (2.48.0)\n",
      "Requirement already satisfied: idna<2.8,>=2.5 in /home/ec2-user/anaconda3/envs/tensorflow_p36/lib/python3.6/site-packages (from requests->smart-open>=1.8.1->gensim) (2.6)\n",
      "Requirement already satisfied: chardet<3.1.0,>=3.0.2 in /home/ec2-user/anaconda3/envs/tensorflow_p36/lib/python3.6/site-packages (from requests->smart-open>=1.8.1->gensim) (3.0.4)\n",
      "Requirement already satisfied: certifi>=2017.4.17 in /home/ec2-user/anaconda3/envs/tensorflow_p36/lib/python3.6/site-packages (from requests->smart-open>=1.8.1->gensim) (2019.11.28)\n",
      "Requirement already satisfied: urllib3<1.25,>=1.21.1 in /home/ec2-user/anaconda3/envs/tensorflow_p36/lib/python3.6/site-packages (from requests->smart-open>=1.8.1->gensim) (1.23)\n",
      "Requirement already satisfied: jmespath<1.0.0,>=0.7.1 in /home/ec2-user/anaconda3/envs/tensorflow_p36/lib/python3.6/site-packages (from boto3->smart-open>=1.8.1->gensim) (0.9.4)\n",
      "Requirement already satisfied: s3transfer<0.4.0,>=0.3.0 in /home/ec2-user/anaconda3/envs/tensorflow_p36/lib/python3.6/site-packages (from boto3->smart-open>=1.8.1->gensim) (0.3.3)\n",
      "Requirement already satisfied: botocore<1.16.0,>=1.15.24 in /home/ec2-user/anaconda3/envs/tensorflow_p36/lib/python3.6/site-packages (from boto3->smart-open>=1.8.1->gensim) (1.15.24)\n",
      "Requirement already satisfied: python-dateutil<3.0.0,>=2.1 in /home/ec2-user/anaconda3/envs/tensorflow_p36/lib/python3.6/site-packages (from botocore<1.16.0,>=1.15.24->boto3->smart-open>=1.8.1->gensim) (2.7.3)\n",
      "Requirement already satisfied: docutils<0.16,>=0.10 in /home/ec2-user/anaconda3/envs/tensorflow_p36/lib/python3.6/site-packages (from botocore<1.16.0,>=1.15.24->boto3->smart-open>=1.8.1->gensim) (0.14)\n",
      "\u001b[33mWARNING: You are using pip version 19.3.1; however, version 20.0.2 is available.\n",
      "You should consider upgrading via the 'pip install --upgrade pip' command.\u001b[0m\n"
     ]
    }
   ],
   "source": [
    "!pip install gensim"
   ]
  },
  {
   "cell_type": "code",
   "execution_count": 2,
   "metadata": {
    "colab": {},
    "colab_type": "code",
    "id": "12pVWFUTC22_"
   },
   "outputs": [
    {
     "name": "stderr",
     "output_type": "stream",
     "text": [
      "unable to import 'smart_open.gcs', disabling that module\n"
     ]
    }
   ],
   "source": [
    "import gensim\n",
    "from gensim.models import Doc2Vec\n",
    "import pandas as pd\n",
    "from sklearn.preprocessing import StandardScaler # Replace with SAS version"
   ]
  },
  {
   "cell_type": "code",
   "execution_count": 3,
   "metadata": {
    "colab": {
     "base_uri": "https://localhost:8080/",
     "height": 235
    },
    "colab_type": "code",
    "id": "HiqBFGEx4kNQ",
    "outputId": "29685a3c-3835-490e-a866-b2f6d25ff668"
   },
   "outputs": [
    {
     "name": "stdout",
     "output_type": "stream",
     "text": [
      "--2020-04-17 02:11:27--  https://nsfdata.s3.amazonaws.com/nsfdataset.zip\n",
      "Resolving nsfdata.s3.amazonaws.com (nsfdata.s3.amazonaws.com)... 52.216.160.43\n",
      "Connecting to nsfdata.s3.amazonaws.com (nsfdata.s3.amazonaws.com)|52.216.160.43|:443... connected.\n",
      "HTTP request sent, awaiting response... 200 OK\n",
      "Length: 358656602 (342M) [application/zip]\n",
      "Saving to: ‘nsfdataset.zip’\n",
      "\n",
      "nsfdataset.zip      100%[===================>] 342.04M  61.6MB/s    in 5.2s    \n",
      "\n",
      "2020-04-17 02:11:32 (65.8 MB/s) - ‘nsfdataset.zip’ saved [358656602/358656602]\n",
      "\n",
      "Archive:  nsfdataset.zip\n",
      "  inflating: data/nsf_proposals.csv  \n"
     ]
    }
   ],
   "source": [
    "#!rm -r data\n",
    "!wget https://nsfdata.s3.amazonaws.com/nsfdataset.zip -O nsfdataset.zip\n",
    "!unzip -o nsfdataset.zip -d data"
   ]
  },
  {
   "cell_type": "code",
   "execution_count": 4,
   "metadata": {},
   "outputs": [
    {
     "name": "stdout",
     "output_type": "stream",
     "text": [
      "nsf_proposals.csv\r\n"
     ]
    }
   ],
   "source": [
    "!ls data"
   ]
  },
  {
   "cell_type": "code",
   "execution_count": 5,
   "metadata": {
    "colab": {
     "base_uri": "https://localhost:8080/",
     "height": 50
    },
    "colab_type": "code",
    "id": "ELme3JwFr579",
    "outputId": "60c0c11b-9150-45a7-a261-d0176933d6b8"
   },
   "outputs": [
    {
     "name": "stdout",
     "output_type": "stream",
     "text": [
      "Total Projects:  329321 \n",
      "Total Features:  2\n"
     ]
    }
   ],
   "source": [
    "#import saspy\n",
    "import pandas as pd\n",
    "import numpy as np\n",
    "\n",
    "\n",
    "selected_cols = ['abstractText','date']\n",
    "projects = pd.read_csv(\"data/nsf_proposals.csv\", usecols = selected_cols, low_memory=False) #, nrows=30000\n",
    "print (\"Total Projects: \", projects.shape[0], \"\\nTotal Features: \", projects.shape[1])\n",
    "projects.date = pd.to_datetime(projects.date.str.replace('D', 'T'))\n",
    "projects = projects.sort_values('date')"
   ]
  },
  {
   "cell_type": "markdown",
   "metadata": {
    "colab_type": "text",
    "id": "yPmscOBnC23B"
   },
   "source": [
    "### Load in Data using Pandas"
   ]
  },
  {
   "cell_type": "code",
   "execution_count": 6,
   "metadata": {
    "colab": {
     "base_uri": "https://localhost:8080/",
     "height": 262
    },
    "colab_type": "code",
    "id": "WpMB6ablC23C",
    "outputId": "d7dffdab-360b-4070-d863-772f4cd0c5e9"
   },
   "outputs": [
    {
     "name": "stdout",
     "output_type": "stream",
     "text": [
      "Max length of the abstractText: 8166\n",
      "Min length of the abstractText: 1\n",
      "Avg length of the abstractText: 1645.861842268939\n",
      "Max words abstractText: 1252\n"
     ]
    },
    {
     "data": {
      "text/html": [
       "<div>\n",
       "<style scoped>\n",
       "    .dataframe tbody tr th:only-of-type {\n",
       "        vertical-align: middle;\n",
       "    }\n",
       "\n",
       "    .dataframe tbody tr th {\n",
       "        vertical-align: top;\n",
       "    }\n",
       "\n",
       "    .dataframe thead th {\n",
       "        text-align: right;\n",
       "    }\n",
       "</style>\n",
       "<table border=\"1\" class=\"dataframe\">\n",
       "  <thead>\n",
       "    <tr style=\"text-align: right;\">\n",
       "      <th></th>\n",
       "      <th>abstractText</th>\n",
       "      <th>date</th>\n",
       "    </tr>\n",
       "  </thead>\n",
       "  <tbody>\n",
       "    <tr>\n",
       "      <th>295988</th>\n",
       "      <td>Nondestructive Evaluation (NDE) is important t...</td>\n",
       "      <td>1985-08-30</td>\n",
       "    </tr>\n",
       "    <tr>\n",
       "      <th>307099</th>\n",
       "      <td>An Industry/University Cooperative Research Ce...</td>\n",
       "      <td>1985-08-30</td>\n",
       "    </tr>\n",
       "    <tr>\n",
       "      <th>284877</th>\n",
       "      <td>This research seeks to obtain a representation...</td>\n",
       "      <td>1985-09-06</td>\n",
       "    </tr>\n",
       "    <tr>\n",
       "      <th>177779</th>\n",
       "      <td>This is an attempt to develop a \"solvated elec...</td>\n",
       "      <td>1986-01-16</td>\n",
       "    </tr>\n",
       "    <tr>\n",
       "      <th>166668</th>\n",
       "      <td>The New York State College of Ceramics at Alfr...</td>\n",
       "      <td>1986-06-03</td>\n",
       "    </tr>\n",
       "  </tbody>\n",
       "</table>\n",
       "</div>"
      ],
      "text/plain": [
       "                                             abstractText       date\n",
       "295988  Nondestructive Evaluation (NDE) is important t... 1985-08-30\n",
       "307099  An Industry/University Cooperative Research Ce... 1985-08-30\n",
       "284877  This research seeks to obtain a representation... 1985-09-06\n",
       "177779  This is an attempt to develop a \"solvated elec... 1986-01-16\n",
       "166668  The New York State College of Ceramics at Alfr... 1986-06-03"
      ]
     },
     "execution_count": 6,
     "metadata": {},
     "output_type": "execute_result"
    }
   ],
   "source": [
    "# Drop values without Abstract texts\n",
    "projects = projects.dropna(how='any')\n",
    "\n",
    "print(\"Max length of the abstractText:\", projects.abstractText.str.len().max())\n",
    "print(\"Min length of the abstractText:\", projects.abstractText.str.len().min())\n",
    "print(\"Avg length of the abstractText:\", projects.abstractText.apply(lambda x: len(x) - x.count(\" \")).mean())\n",
    "\n",
    "words = projects.abstractText.str.split().apply(len)\n",
    "print(\"Max words abstractText:\", words.max())\n",
    "projects.head()"
   ]
  },
  {
   "cell_type": "markdown",
   "metadata": {
    "colab_type": "text",
    "id": "hJJZRTyCC23F"
   },
   "source": [
    "### Setup Training Set for Doc2Vec"
   ]
  },
  {
   "cell_type": "code",
   "execution_count": 7,
   "metadata": {
    "colab": {
     "base_uri": "https://localhost:8080/",
     "height": 34
    },
    "colab_type": "code",
    "id": "puEINuT5C23F",
    "outputId": "ee4bd738-7544-4d88-cac6-7e5fe59d9055"
   },
   "outputs": [
    {
     "name": "stdout",
     "output_type": "stream",
     "text": [
      "Number of abstracts:  321560\n"
     ]
    }
   ],
   "source": [
    "X_raw = projects.abstractText.str.lower().values\n",
    "num_of_docs = len(X_raw)\n",
    "print('Number of abstracts: ', num_of_docs)"
   ]
  },
  {
   "cell_type": "markdown",
   "metadata": {},
   "source": [
    "#### Download Model Files"
   ]
  },
  {
   "cell_type": "code",
   "execution_count": 8,
   "metadata": {},
   "outputs": [],
   "source": [
    "#!wget https://nsfdata.s3.amazonaws.com/0nsf_doc2v.model -O 0nsf_doc2v.model\n",
    "#!wget https://nsfdata.s3.amazonaws.com/0nsf_doc2v.model.docvecs.vectors_docs.npy -O 0nsf_doc2v.model.docvecs.vectors_docs.npy\n",
    "#!wget https://nsfdata.s3.amazonaws.com/0nsf_doc2v.model.trainables.syn1neg.npy -O 0nsf_doc2v.model.trainables.syn1neg.npy\n",
    "#!wget https://nsfdata.s3.amazonaws.com/0nsf_doc2v.model.wv.vectors.npy -O 0nsf_doc2v.model.wv.vectors.npy"
   ]
  },
  {
   "cell_type": "markdown",
   "metadata": {
    "colab_type": "text",
    "id": "8ru1PXGUC23J"
   },
   "source": [
    "### Create generator that will tokenize the training abstracts on the fly to save on memory"
   ]
  },
  {
   "cell_type": "code",
   "execution_count": 9,
   "metadata": {
    "colab": {},
    "colab_type": "code",
    "id": "i1pg5829C23K"
   },
   "outputs": [],
   "source": [
    "def doc_generator(input_docs_array):\n",
    "    for i, doc in enumerate(input_docs_array):\n",
    "        tokens = gensim.utils.simple_preprocess(doc)\n",
    "        yield gensim.models.doc2vec.TaggedDocument(tokens, [i])"
   ]
  },
  {
   "cell_type": "code",
   "execution_count": 10,
   "metadata": {
    "colab": {},
    "colab_type": "code",
    "id": "t7ZvV6OTC23Q"
   },
   "outputs": [],
   "source": [
    "X = doc_generator(X_raw)"
   ]
  },
  {
   "cell_type": "markdown",
   "metadata": {
    "colab_type": "text",
    "id": "AHy9VORiC23V"
   },
   "source": [
    "### Create Initial Doc2Vec Model and Training\n",
    "\n",
    "#### Skip to next section to work load in a pretrained model.  Training could take a potentially long time.\n",
    "\n",
    "We conduct the replication to Document Embedding with Paragraph Vectors (http://arxiv.org/abs/1507.07998). In this paper, they showed only DBOW results to NSF data. So we replicate this experiments using not only DBOW but also DM.\n"
   ]
  },
  {
   "cell_type": "code",
   "execution_count": 11,
   "metadata": {
    "colab": {
     "base_uri": "https://localhost:8080/",
     "height": 154
    },
    "colab_type": "code",
    "id": "ArrJv_dvC23W",
    "outputId": "e5ac4c70-8b29-4bc6-de7f-7dc1b252a475"
   },
   "outputs": [
    {
     "name": "stderr",
     "output_type": "stream",
     "text": [
      "/home/ec2-user/anaconda3/envs/tensorflow_p36/lib/python3.6/site-packages/gensim/models/doc2vec.py:570: UserWarning: The parameter `iter` is deprecated, will be removed in 4.0.0, use `epochs` instead.\n",
      "  warnings.warn(\"The parameter `iter` is deprecated, will be removed in 4.0.0, use `epochs` instead.\")\n",
      "/home/ec2-user/anaconda3/envs/tensorflow_p36/lib/python3.6/site-packages/gensim/models/doc2vec.py:574: UserWarning: The parameter `size` is deprecated, will be removed in 4.0.0, use `vector_size` instead.\n",
      "  warnings.warn(\"The parameter `size` is deprecated, will be removed in 4.0.0, use `vector_size` instead.\")\n"
     ]
    },
    {
     "name": "stdout",
     "output_type": "stream",
     "text": [
      "Doc2Vec(dbow+w,d300,n5,w8,s0.001,t8)\n",
      "CPU times: user 2min 26s, sys: 948 ms, total: 2min 27s\n",
      "Wall time: 2min 27s\n"
     ]
    }
   ],
   "source": [
    "%%time\n",
    "import multiprocessing\n",
    "from pprint import pprint\n",
    "cores = multiprocessing.cpu_count()\n",
    "\n",
    "#It is training 100 epochs in 300 dimension vector space\n",
    "models = [\n",
    "    # PV-DBOW \n",
    "    Doc2Vec(dm=0, dbow_words=1, size=300, window=8, min_count=1, iter=100, workers=cores),\n",
    "    # PV-DM w/average\n",
    "    #Doc2Vec(dm=1, dm_mean=1, size=300, window=8, min_count=1, iter =100, workers=cores),\n",
    "]\n",
    "\n",
    "models[0].build_vocab(doc_generator(X_raw))\n",
    "print(str(models[0]))\n",
    "#models[1].reset_from(models[0])\n",
    "#print(str(models[1]))"
   ]
  },
  {
   "cell_type": "code",
   "execution_count": 12,
   "metadata": {
    "colab": {
     "base_uri": "https://localhost:8080/",
     "height": 138
    },
    "colab_type": "code",
    "id": "c5QCW4n32P7-",
    "outputId": "42212ea2-54a7-4b7c-aa78-95ecb4b90be4"
   },
   "outputs": [
    {
     "name": "stderr",
     "output_type": "stream",
     "text": [
      "/home/ec2-user/anaconda3/envs/tensorflow_p36/lib/python3.6/site-packages/ipykernel/__main__.py:2: DeprecationWarning: Call to deprecated `iter` (Attribute will be removed in 4.0.0, use self.epochs instead).\n",
      "  from ipykernel import kernelapp as app\n"
     ]
    },
    {
     "name": "stdout",
     "output_type": "stream",
     "text": [
      "Doc2Vec Embedding Shape: (321560, 300)\n",
      "CPU times: user 26min 13s, sys: 1.91 s, total: 26min 15s\n",
      "Wall time: 26min 15s\n"
     ]
    }
   ],
   "source": [
    "%%time \n",
    "for i, model in enumerate(models):\n",
    "    model.train(doc_generator(X_raw), total_examples=len(X_raw), epochs=model.iter)\n",
    "    model.save(str(i)+'nsf_doc2v.model')\n",
    "    \n",
    "print(\"Doc2Vec Embedding Shape:\",model.docvecs.vectors_docs.shape)"
   ]
  },
  {
   "cell_type": "markdown",
   "metadata": {},
   "source": [
    "##OTHER Method"
   ]
  },
  {
   "cell_type": "code",
   "execution_count": 13,
   "metadata": {},
   "outputs": [
    {
     "name": "stdout",
     "output_type": "stream",
     "text": [
      "CPU times: user 3 µs, sys: 0 ns, total: 3 µs\n",
      "Wall time: 5.96 µs\n"
     ]
    }
   ],
   "source": [
    "%%time\n",
    "#model = Doc2Vec(vector_size=300, window=8, min_count=1, workers=4)\n",
    "#model.build_vocab(documents=doc_generator(X_raw))\n",
    "#model.train(doc_generator(X_raw), total_examples=num_of_docs, epochs=100)\n",
    "#model.save('nsf_doc2vec.model')"
   ]
  },
  {
   "cell_type": "code",
   "execution_count": 14,
   "metadata": {
    "colab": {},
    "colab_type": "code",
    "id": "mr5BKOvDC23c"
   },
   "outputs": [],
   "source": [
    "# model.train(doc_generator(X_raw), total_examples=num_of_docs, epochs=1)\n",
    "# model.save('nsf_doc2vec.model')"
   ]
  },
  {
   "cell_type": "markdown",
   "metadata": {
    "colab_type": "text",
    "id": "gs7Qc0KOC23h"
   },
   "source": [
    "### Load Existing Model"
   ]
  },
  {
   "cell_type": "code",
   "execution_count": 15,
   "metadata": {
    "colab": {
     "base_uri": "https://localhost:8080/",
     "height": 70
    },
    "colab_type": "code",
    "id": "hJbB9-JzC23k",
    "outputId": "fc10c443-1d21-48cc-cb81-cee045bae332"
   },
   "outputs": [],
   "source": [
    "existing_model = '0nsf_doc2v.model' #'0nsf_doc2v.model' #'nsf_d2v_100.model' # Name of Existing model to load\n",
    "model = gensim.models.Doc2Vec.load(str(existing_model)) # Model is assumed to be in the shared folder"
   ]
  },
  {
   "cell_type": "markdown",
   "metadata": {
    "colab_type": "text",
    "id": "slapVISDC23n"
   },
   "source": [
    "### Testing Doc2Vec Model\n",
    "\n",
    "1. Infer Embedding Vecor for a New Abstract\n",
    "2. Generating Most Similar Articles based on document cluster. This is using cosine similary score.\n",
    "3. Storing the most similar files to S3 bucket.\n",
    "\n",
    "\n",
    "#### 1. Infer Embedding Vecor for a New Abstract\n",
    "\n",
    "First, calculating cosine similarity of New Text using Paragraph Vector. Word Vector and Document Vector are separately stored. We have to add .docvecs after model name to extract Document Vector from Doc2Vec Model."
   ]
  },
  {
   "cell_type": "code",
   "execution_count": 16,
   "metadata": {
    "colab": {
     "base_uri": "https://localhost:8080/",
     "height": 202
    },
    "colab_type": "code",
    "id": "w_o5Knh0i6Qk",
    "outputId": "d102ee6c-25f1-487f-a2b2-02f3a15bf574"
   },
   "outputs": [
    {
     "name": "stdout",
     "output_type": "stream",
     "text": [
      "--2020-04-17 02:40:53--  https://nsfdata.s3.amazonaws.com/input.txt\n",
      "Resolving nsfdata.s3.amazonaws.com (nsfdata.s3.amazonaws.com)... 52.216.244.188\n",
      "Connecting to nsfdata.s3.amazonaws.com (nsfdata.s3.amazonaws.com)|52.216.244.188|:443... connected.\n",
      "HTTP request sent, awaiting response... 200 OK\n",
      "Length: 1758 (1.7K) [text/plain]\n",
      "Saving to: ‘input.txt.1’\n",
      "\n",
      "input.txt.1         100%[===================>]   1.72K  --.-KB/s    in 0s      \n",
      "\n",
      "2020-04-17 02:40:53 (111 MB/s) - ‘input.txt.1’ saved [1758/1758]\n",
      "\n"
     ]
    }
   ],
   "source": [
    "!wget https://nsfdata.s3.amazonaws.com/input.txt"
   ]
  },
  {
   "cell_type": "code",
   "execution_count": 17,
   "metadata": {
    "colab": {},
    "colab_type": "code",
    "id": "iEDLXN2-jSmj"
   },
   "outputs": [],
   "source": [
    "with open('./input.txt', 'rb') as file_stream:\n",
    "    text = file_stream.read().decode('utf-8')"
   ]
  },
  {
   "cell_type": "markdown",
   "metadata": {},
   "source": [
    "# FOR CUSTOM USER ABSTRACT INPUT - Update below text variable value"
   ]
  },
  {
   "cell_type": "code",
   "execution_count": 18,
   "metadata": {
    "colab": {
     "base_uri": "https://localhost:8080/",
     "height": 104
    },
    "colab_type": "code",
    "id": "D4T1hmbghnFx",
    "outputId": "5e310518-7b6c-41b1-b70d-4bf99915d4c7"
   },
   "outputs": [
    {
     "name": "stdout",
     "output_type": "stream",
     "text": [
      "This study utilizes publicly available data from the National Science Foundation (NSF) Web Application Programming Interface (API). In this paper, various machine learning techniques are demonstrated to explore, analyze and recommend similar proposal abstracts to aid the NSF or Awardee with the Merit Review Process. These techniques extract textual context and group it with similar context. The goal of the analysis was to utilize a Doc2Vec unsupervised learning algorithms to embed NSF funding proposal abstracts text into vector space.  Once vectorized, the abstracts were grouped together using K-means clustering. These techniques together proved to be successful at grouping similar proposals together and could be used to find similar proposals to newly submitted NSF funding proposals. \r\n",
      "To perform text analysis, SAS® University Edition is used which supports SASPy, SAS® Studio and Python JupyterLab. Gensim Doc2vec is used to generate document vectors for proposal abstracts. Afterwards, document vectors were used to cluster similar abstracts using SAS® Studio KMeans Clustering Module. For visualization, the abstract embeddings were reduced to two dimensions using Principal Component Analysis (PCA) within SAS® Studio. This was then compared to a t-Distributed Stochastic Neighbor Embedding (t-SNE) dimensionality reduction technique as part of the Scikit-learn machine learning toolkit for Python.\r\n",
      "Conclusively, NSF proposal abstract text analysis can help an awardee read and improve their proposal model by identifying similar proposal abstracts from the last 24 years. It could also help NSF evaluators identify similar existing proposals that indirectly provides insights on whether a new proposal is going to be fruitful or not.\r\n",
      "\n"
     ]
    }
   ],
   "source": [
    "#text = \"\"\"This study utilizes publicly available data from the National Science Foundation (NSF) Web Application Programming Interface (API). In this paper, various machine learning techniques are demonstrated to explore, analyze and recommend similar proposal abstracts to aid the NSF or Awardee with the Merit Review Process. These techniques extract textual context and group it with similar context. The goal of the analysis was to utilize a Doc2Vec unsupervised learning algorithms to embed NSF funding proposal abstracts text into vector space.  Once vectorized, the abstracts were grouped together using K-means clustering. These techniques together proved to be successful at grouping similar proposals together and could be used to find similar proposals to newly submitted NSF funding proposals. To perform text analysis, SAS® University Edition is used which supports SASPy, SAS® Studio and Python JupyterLab. Gensim Doc2vec is used to generate document vectors for proposal abstracts. Afterwards, document vectors were used to cluster similar abstracts using SAS® Studio KMeans Clustering Module. For visualization, the abstract embeddings were reduced to two dimensions using Principal Component Analysis (PCA) within SAS® Studio. This was then compared to a t-Distributed Stochastic Neighbor Embedding (t-SNE) dimensionality reduction technique as part of the Scikit-learn machine learning toolkit for Python.Conclusively, NSF proposal abstract text analysis can help an awardee read and improve their proposal model by identifying similar proposal abstracts from the last 24 years. It could also help NSF evaluators identify similar existing proposals that indirectly provides insights on whether a new proposal is going to be fruitful or not.\"\"\"\n",
    "print(text)"
   ]
  },
  {
   "cell_type": "code",
   "execution_count": 19,
   "metadata": {
    "colab": {},
    "colab_type": "code",
    "id": "9UVA8d2kC23o"
   },
   "outputs": [],
   "source": [
    "test_vector = model.infer_vector(gensim.utils.simple_preprocess(text))"
   ]
  },
  {
   "cell_type": "code",
   "execution_count": 20,
   "metadata": {
    "colab": {
     "base_uri": "https://localhost:8080/",
     "height": 1000
    },
    "colab_type": "code",
    "id": "woPjuZXDC23s",
    "outputId": "a03d413f-1391-4a0d-e9c4-dc4544c227cf"
   },
   "outputs": [
    {
     "data": {
      "text/plain": [
       "array([ 0.6275049 , -0.69909126,  0.24648897,  0.6473362 , -0.14309214,\n",
       "       -0.12364113, -0.45723322,  0.19341896,  0.3059978 ,  0.5516042 ,\n",
       "       -0.93698806, -0.5967499 , -0.47690502, -0.77345866, -0.4994785 ,\n",
       "       -0.22809467, -0.0147303 , -0.5137103 ,  0.22297043,  1.2357723 ,\n",
       "       -0.16500396, -1.2042545 , -0.783777  ,  0.12628776,  0.51366127,\n",
       "       -0.06516813, -0.5799814 , -0.6226896 , -0.7133552 , -0.9241057 ,\n",
       "        1.2958399 ,  0.11201333,  1.0210373 , -0.22493178,  0.6654851 ,\n",
       "        0.24299653,  0.39740056, -0.36731383, -1.1357244 ,  0.10958847,\n",
       "        0.0349189 ,  0.08420368,  0.75649464, -0.3745052 ,  0.557635  ,\n",
       "        0.9662127 ,  1.0169607 , -0.07046982, -0.01328701,  0.068611  ,\n",
       "        0.7502527 , -0.15684119, -0.12343872,  0.8755129 , -1.9245733 ,\n",
       "        1.1535857 , -0.06343684, -0.26710075,  0.99154687,  0.5169596 ,\n",
       "       -0.27407172, -0.82625276,  0.09931551, -0.641839  , -0.30299821,\n",
       "       -0.90837485, -0.8976406 ,  0.26431394,  0.02322918, -0.2792377 ,\n",
       "        0.6663473 , -0.4217148 ,  0.676425  , -0.24327868, -0.72616684,\n",
       "       -0.5502938 , -0.70870906,  0.5461652 ,  1.1456535 ,  0.00419831,\n",
       "       -1.1888899 , -0.98026943, -0.3738662 ,  0.32240617, -0.2222006 ,\n",
       "        1.2228851 ,  0.78512853,  0.13158031, -0.2237935 , -0.36481863,\n",
       "        0.2803603 , -0.76589376, -0.32797083, -1.2885339 ,  0.08034196,\n",
       "       -1.3646901 ,  1.0522537 , -0.27313882,  0.1359709 ,  0.47585624,\n",
       "        0.14989032,  0.17250407,  0.22783147, -0.7652006 , -0.58567005,\n",
       "       -0.79934734,  0.01296021,  0.40902078,  0.82365227, -0.3867231 ,\n",
       "       -0.96260256,  0.4928954 ,  0.39255127,  0.5162886 ,  0.9678436 ,\n",
       "        0.40319887, -0.25719306,  0.43068388, -0.20298015, -0.8769224 ,\n",
       "        0.01199111,  0.7489603 ,  0.07676545,  0.4782673 , -0.05270045,\n",
       "       -0.05617099,  0.24020663, -0.24342434,  0.78898674,  0.5330932 ,\n",
       "        0.1831107 ,  0.244866  ,  0.7079329 , -0.75922936, -0.04001367,\n",
       "       -0.90461665, -0.17184114, -0.6235203 , -0.02652839, -0.04375228,\n",
       "       -0.41009906,  0.3949275 , -0.656317  , -0.44992998, -0.38263124,\n",
       "        0.07992311, -0.33456445, -0.41853827, -0.8848615 ,  1.1862925 ,\n",
       "       -0.400466  ,  1.2597558 ,  0.22084324,  0.48174983,  0.40594658,\n",
       "       -0.16373643,  0.9539829 , -0.73753643,  1.0197836 ,  0.57564896,\n",
       "       -0.18546665,  0.4410969 , -0.73481405,  0.01594996, -0.6793742 ,\n",
       "       -0.02587324,  0.29713184,  0.04721208, -0.5709635 , -0.03589757,\n",
       "        0.3007223 ,  0.32544783,  0.9227952 ,  0.58384484, -0.21753462,\n",
       "        0.01806748, -0.8083903 ,  0.29858655, -0.29223055, -1.2748175 ,\n",
       "       -0.38118654, -0.77568877, -0.23514123, -0.7102247 , -0.09538668,\n",
       "       -1.4285902 , -0.18164505,  0.4285675 ,  0.2316271 ,  0.71913135,\n",
       "        0.02445552,  0.2220608 , -0.65609   ,  0.12292802, -0.41072154,\n",
       "       -1.0056388 ,  0.31117633,  0.10125244, -0.18469223,  0.532085  ,\n",
       "        0.4037487 , -0.16409525, -0.15373255, -0.26016954, -0.5327322 ,\n",
       "        1.1958331 , -0.37481424,  0.10058694, -0.5132286 ,  0.11673433,\n",
       "        0.33360553,  0.95544183, -0.2022116 ,  0.63467485,  0.3756509 ,\n",
       "        0.04193265,  0.23741719, -0.45752165,  0.86326396,  0.57186747,\n",
       "        0.93118376, -0.33839095,  0.0078023 ,  0.35401934,  0.7291621 ,\n",
       "        0.5836036 ,  0.021617  , -0.7808421 ,  0.36129972, -0.48193952,\n",
       "       -0.19316906,  0.34452972, -0.8134122 ,  0.30103627, -0.8784605 ,\n",
       "        0.35983738, -0.44617668,  0.5288321 , -0.92852193, -0.5504584 ,\n",
       "        0.04112818,  0.2932392 ,  0.22288373, -0.24048515, -0.3619581 ,\n",
       "       -0.4071915 ,  1.0994734 ,  0.36279926, -0.22436452,  0.33705544,\n",
       "        0.1716543 ,  0.11589999,  0.06303596,  0.40557688,  0.6729943 ,\n",
       "        0.23469901,  0.6251673 ,  1.1513495 , -0.5496341 , -0.73064876,\n",
       "       -0.41057232, -0.27893782,  1.5899491 , -1.0648749 ,  0.5676211 ,\n",
       "       -0.46908537, -0.9838885 ,  0.33709866, -0.8250773 ,  0.57182384,\n",
       "        0.7678997 ,  0.14491804,  0.4675329 , -1.1296737 ,  0.20427115,\n",
       "        0.08755085, -0.03570706,  0.03276423, -0.55464166, -0.77608794,\n",
       "       -0.74095976,  0.8691412 ,  0.30237505, -0.03703399, -0.7705648 ,\n",
       "        1.2294811 , -0.464041  ,  0.14404409,  1.0743191 , -0.45019895,\n",
       "       -0.33790424, -0.29129893, -0.9573495 , -0.6129038 ,  0.59752345,\n",
       "        0.5147144 ,  0.03151965, -0.7247122 ,  0.58294016, -0.797838  ],\n",
       "      dtype=float32)"
      ]
     },
     "execution_count": 20,
     "metadata": {},
     "output_type": "execute_result"
    }
   ],
   "source": [
    "test_vector"
   ]
  },
  {
   "cell_type": "markdown",
   "metadata": {
    "colab_type": "text",
    "id": "8ukx9sWJfjCa"
   },
   "source": [
    "#### 2. Generating Most Similar Articles based on document cluster. This is using cosine similary score."
   ]
  },
  {
   "cell_type": "code",
   "execution_count": 21,
   "metadata": {
    "colab": {
     "base_uri": "https://localhost:8080/",
     "height": 121
    },
    "colab_type": "code",
    "id": "MZ8dZDfPC23v",
    "outputId": "d336034e-4a84-4b74-f430-9dad9bd712ba"
   },
   "outputs": [
    {
     "name": "stdout",
     "output_type": "stream",
     "text": [
      "[(272039, 0.2936977744102478), (240400, 0.28609341382980347), (240378, 0.285956472158432)]\n"
     ]
    }
   ],
   "source": [
    "similar = model.docvecs.most_similar(\n",
    "    positive=[test_vector], \n",
    "    topn=3)\n",
    "print(similar)"
   ]
  },
  {
   "cell_type": "code",
   "execution_count": 22,
   "metadata": {},
   "outputs": [
    {
     "data": {
      "text/plain": [
       "\"the broader impact/commercial potential of this small business technology transfer (sttr) phase i project will be to bring modern data analytics to the book publishing industry and apply machine learning to extract and articulate human emotion as applied to the reading of literature for the first time in history. this innovation will dramatically change the way books are discovered, resulting in the first commercial version of a book recommendation system based on the experiential reading value of books. with approximately 1.4 million new books published each year, it's extremely difficult for authors to connect with readers and for readers to find the book that is just right for them. current recommendation systems are based on purchase history or social networks and fail to provide what readers told us are the most important factors in their reading satisfaction: writing style and how a book will make them feel. the proposed sttr project will lead to a commercially marketable product that deeply personalizes the book discovery process and perpetuates literacy. not only will the innovation help authors and readers connect, but on an even greater scale, it will impact the way books are written, acquired, distributed and sold.\\n\\nthis small business technology transfer (sttr) phase i project proposes to tackle the next challenge in text classification: the higher level experience of reading a book. the computational model of books will learn the relationship between content, genre, author's writing style, and the mixture of sentiments in the book that, together, define how a book will make a reader feel. the opportunity is to extend research beyond what is already possible in analyzing thematic content in texts and stylistic marks that characterize authors' writeprint into those systems that can also understand and articulate the reading experience itself. the knowledge derived from the successful completion of this research represents a new frontier in natural language processing and machine learning akin to machine reading. using supervised learning to perform the classification of reading experience for books, the project proposes to develop a large corpus of human annotated books to use for training, development and evaluation of the approaches examined. the goal is to initially use multiple human annotators to create the training set from which the machine learning system will be trained. then we apply machine learning to 19 million current books to generate deeply personalized book recommendations.\""
      ]
     },
     "execution_count": 22,
     "metadata": {},
     "output_type": "execute_result"
    }
   ],
   "source": [
    "X_raw[similar[0][0]]"
   ]
  },
  {
   "cell_type": "markdown",
   "metadata": {
    "colab_type": "text",
    "id": "yw_EKxCmfzZT"
   },
   "source": [
    "3. Storing the most similar files to S3 bucket."
   ]
  },
  {
   "cell_type": "code",
   "execution_count": 23,
   "metadata": {
    "colab": {},
    "colab_type": "code",
    "id": "vnnZTNlBIWTT"
   },
   "outputs": [],
   "source": [
    "# file = open('top1.txt', 'w',encoding=\"utf-8\")\n",
    "# file.write(X_raw[similar[0][0]])\n",
    "# file.close()"
   ]
  },
  {
   "cell_type": "code",
   "execution_count": 24,
   "metadata": {
    "colab": {},
    "colab_type": "code",
    "id": "WX7zmH6oC23y"
   },
   "outputs": [],
   "source": [
    "# file = open('top2.txt', 'w',encoding=\"utf-8\")\n",
    "# file.write(X_raw[similar[1][0]])\n",
    "# file.close()"
   ]
  },
  {
   "cell_type": "code",
   "execution_count": 25,
   "metadata": {
    "colab": {},
    "colab_type": "code",
    "id": "5FWQ2EF8C24H"
   },
   "outputs": [],
   "source": [
    "# file = open('top3.txt', 'w',encoding=\"utf-8\")\n",
    "# file.write(X_raw[similar[2][0]])\n",
    "# file.close()"
   ]
  },
  {
   "cell_type": "code",
   "execution_count": 26,
   "metadata": {},
   "outputs": [
    {
     "data": {
      "text/plain": [
       "{'ResponseMetadata': {'RequestId': 'E397F67285A79584',\n",
       "  'HostId': 'bQODYBEMvArx0vneQhfvoFPeN/CDx4UhqHa1yTNbZY/qqWZHzvKrDoD89rGsRGCxG/3XBQke9vs=',\n",
       "  'HTTPStatusCode': 200,\n",
       "  'HTTPHeaders': {'x-amz-id-2': 'bQODYBEMvArx0vneQhfvoFPeN/CDx4UhqHa1yTNbZY/qqWZHzvKrDoD89rGsRGCxG/3XBQke9vs=',\n",
       "   'x-amz-request-id': 'E397F67285A79584',\n",
       "   'date': 'Fri, 17 Apr 2020 02:40:55 GMT',\n",
       "   'etag': '\"5284bb0274fe21e74bc6c54b4d4e6658\"',\n",
       "   'content-length': '0',\n",
       "   'server': 'AmazonS3'},\n",
       "  'RetryAttempts': 0},\n",
       " 'ETag': '\"5284bb0274fe21e74bc6c54b4d4e6658\"'}"
      ]
     },
     "execution_count": 26,
     "metadata": {},
     "output_type": "execute_result"
    }
   ],
   "source": [
    "import boto3\n",
    "s3_conn = boto3.client(\"s3\")\n",
    "s3 = boto3.resource('s3')\n",
    "object = s3.Object('nsfdata', 'top1.txt')\n",
    "object.put(Body=X_raw[similar[0][0]])"
   ]
  },
  {
   "cell_type": "markdown",
   "metadata": {
    "colab": {},
    "colab_type": "code",
    "id": "2G0n0VRaC24J"
   },
   "source": [
    "###  MphasisDeepInsightsTextSummarizer"
   ]
  },
  {
   "cell_type": "markdown",
   "metadata": {
    "colab_type": "text",
    "id": "LjVXD-4jhnGK"
   },
   "source": [
    "### Create the session\n",
    "\n",
    "The session remembers our connection parameters to SageMaker. We'll use it to perform all of our SageMaker operations."
   ]
  },
  {
   "cell_type": "code",
   "execution_count": 27,
   "metadata": {
    "colab": {
     "base_uri": "https://localhost:8080/",
     "height": 374
    },
    "colab_type": "code",
    "id": "ThbzqpNFkEeS",
    "outputId": "f816d871-9c3b-4244-cc39-d0105cdc2150"
   },
   "outputs": [],
   "source": [
    "import sagemaker as sage\n",
    "from time import gmtime, strftime\n",
    "from sagemaker import get_execution_role\n",
    "\n",
    "sess = sage.Session()\n",
    "role = get_execution_role()"
   ]
  },
  {
   "cell_type": "markdown",
   "metadata": {
    "colab_type": "text",
    "id": "JTTJoGXrhnGM"
   },
   "source": [
    "## Create Model\n",
    "\n",
    "Now we use the Model Package to create a model,\n",
    "\n",
    "# PLEASE CHANGE MphasisDeepInsightsTextSummarizer Product ARN\n",
    "\n",
    "## Make sure you update model_package_arn to product arn which you retrieved from marketplace-text-summarizer\n"
   ]
  },
  {
   "cell_type": "code",
   "execution_count": 28,
   "metadata": {
    "colab": {},
    "colab_type": "code",
    "id": "0VdfpjcehnGN"
   },
   "outputs": [],
   "source": [
    "# Please use the appropriate ARN obtained after subscribing to the model to define 'model_package_arn'\n",
    "##OHIO REGION\n",
    "#model_package_arn = 'arn:aws:sagemaker:us-east-2:057799348421:model-package/marketplace-text-summarizer-11-d2490248e8de20f24ae3b72d0d74654c'\n",
    "\n",
    "##North Virginia Region\n",
    "model_package_arn = 'arn:aws:sagemaker:us-east-1:865070037744:model-package/marketplace-text-summarizer-11-d2490248e8de20f24ae3b72d0d74654c'\n",
    "\n",
    "from sagemaker import ModelPackage\n",
    "import sagemaker as sage\n",
    "from sagemaker import get_execution_role\n",
    "\n",
    "role = get_execution_role()\n",
    "sagemaker_session = sage.Session()\n",
    "model = ModelPackage(model_package_arn=model_package_arn,\n",
    "                    role = role,\n",
    "                    sagemaker_session = sagemaker_session)"
   ]
  },
  {
   "cell_type": "markdown",
   "metadata": {
    "colab_type": "text",
    "id": "YPPl9wQ-hnGP"
   },
   "source": [
    "## Input File\n",
    "\n",
    "Now we pull a sample input file for testing the model."
   ]
  },
  {
   "cell_type": "code",
   "execution_count": 29,
   "metadata": {
    "colab": {},
    "colab_type": "code",
    "id": "uRE7YW7yhnGQ"
   },
   "outputs": [],
   "source": [
    "top1_txt=\"s3://nsfdata/top1.txt\""
   ]
  },
  {
   "cell_type": "markdown",
   "metadata": {
    "colab_type": "text",
    "id": "7rBN7cQLhnGU"
   },
   "source": [
    "## Batch Transform Job\n",
    "\n",
    "Now let's use the model built to run a batch inference job and verify it works."
   ]
  },
  {
   "cell_type": "code",
   "execution_count": 30,
   "metadata": {
    "colab": {},
    "colab_type": "code",
    "id": "ul_Wsbb1hnGV",
    "outputId": "7d3504fe-061d-4179-c793-350ad57e0cb7",
    "scrolled": true
   },
   "outputs": [
    {
     "name": "stdout",
     "output_type": "stream",
     "text": [
      "................................\u001b[35m2020-04-17T02:46:06.980:[sagemaker logs]: MaxConcurrentTransforms=1, MaxPayloadInMB=6, BatchStrategy=MULTI_RECORD\u001b[0m\n",
      "\u001b[36m2020-04-17T02:46:06.980:[sagemaker logs]: MaxConcurrentTransforms=1, MaxPayloadInMB=6, BatchStrategy=MULTI_RECORD\u001b[0m\n",
      "\u001b[34m * Serving Flask app \"serve\" (lazy loading)\n",
      " * Environment: production\n",
      "   WARNING: This is a development server. Do not use it in a production deployment.\n",
      "   Use a production WSGI server instead.\n",
      " * Debug mode: off\n",
      " * Running on http://0.0.0.0:8080/ (Press CTRL+C to quit)\u001b[0m\n",
      "\u001b[34m169.254.255.130 - - [17/Apr/2020 02:46:06] \"#033[37mGET /ping HTTP/1.1#033[0m\" 200 -\u001b[0m\n",
      "\u001b[34m169.254.255.130 - - [17/Apr/2020 02:46:06] \"#033[33mGET /execution-parameters HTTP/1.1#033[0m\" 404 -\u001b[0m\n",
      "\u001b[32m * Serving Flask app \"serve\" (lazy loading)\n",
      " * Environment: production\n",
      "   WARNING: This is a development server. Do not use it in a production deployment.\n",
      "   Use a production WSGI server instead.\n",
      " * Debug mode: off\n",
      " * Running on http://0.0.0.0:8080/ (Press CTRL+C to quit)\u001b[0m\n",
      "\u001b[32m169.254.255.130 - - [17/Apr/2020 02:46:06] \"#033[37mGET /ping HTTP/1.1#033[0m\" 200 -\u001b[0m\n",
      "\u001b[32m169.254.255.130 - - [17/Apr/2020 02:46:06] \"#033[33mGET /execution-parameters HTTP/1.1#033[0m\" 404 -\u001b[0m\n",
      "\u001b[34m2020-04-17T02:46:05.408:[sagemaker logs]: MaxConcurrentTransforms=1, MaxPayloadInMB=6, BatchStrategy=MULTI_RECORD\u001b[0m\n",
      "\u001b[33m * Serving Flask app \"serve\" (lazy loading)\n",
      " * Environment: production\n",
      "   WARNING: This is a development server. Do not use it in a production deployment.\n",
      "   Use a production WSGI server instead.\n",
      " * Debug mode: off\n",
      " * Running on http://0.0.0.0:8080/ (Press CTRL+C to quit)\u001b[0m\n",
      "\u001b[33m169.254.255.130 - - [17/Apr/2020 02:46:05] \"#033[37mGET /ping HTTP/1.1#033[0m\" 200 -\u001b[0m\n",
      "\u001b[33m169.254.255.130 - - [17/Apr/2020 02:46:05] \"#033[33mGET /execution-parameters HTTP/1.1#033[0m\" 404 -\u001b[0m\n",
      "\u001b[33m---input--- the broader impact/commercial potential of this small business technology transfer (sttr) phase i project will be to bring modern data analytics to the book publishing industry and apply machine learning to extract and articulate human emotion as applied to the reading of literature for the first time in history. this innovation will dramatically change the way books are discovered, resulting in the first commercial version of a book recommendation system based on the experiential reading value of books. with approximately 1.4 million new books published each year, it's extremely difficult for authors to connect with readers and for readers to find the book that is just right for them. current recommendation systems are based on purchase history or social networks and fail to provide what readers told us are the most important factors in their reading satisfaction: writing style and how a book will make them feel. the proposed sttr project will lead to a commercially marketable product that deeply personalizes the book discovery process and perpetuates literacy. not only will the innovation help authors and readers connect, but on an even greater scale, it will impact the way books are written, acquired, distributed and sold.\n",
      "\u001b[0m\n",
      "\u001b[33mthis small business technology transfer (sttr) phase i project proposes to tackle the next challenge in text classification: the higher level experience of reading a book. the computational model of books will learn the relationship between content, genre, author's writing style, and the mixture of sentiments in the book that, together, define how a book will make a reader feel. the opportunity is to extend research beyond what is already possible in analyzing thematic content in texts and stylistic marks that characterize authors' writeprint into those systems that can also understand and articulate the reading experience itself. the knowledge derived from the successful completion of this research represents a new frontier in natural language processing and machine learning akin to machine reading. using supervised learning to perform the classification of reading experience for books, the project proposes to develop a large corpus of human annotated books to use for training, development and evaluation of the approaches examined. the goal is to initially use multiple human annotators to create the training set from which the machine learning system will be trained. then we apply machine learning to 19 million current books to generate deeply personalized book recommendations.\u001b[0m\n",
      "\u001b[33m----in bert text to json--------- [{'src': [['the', 'broader', 'impact/commercial', 'potential', 'of', 'this', 'small', 'business', 'technology', 'transfer', '(', 'sttr', ')', 'phase', 'i', 'project', 'will', 'be', 'to', 'bring', 'modern', 'data', 'analytics', 'to', 'the', 'book', 'publishing', 'industry', 'and', 'apply', 'machine', 'learning', 'to', 'extract', 'and', 'articulate', 'human', 'emotion', 'as', 'applied', 'to', 'the', 'reading', 'of', 'literature', 'for', 'the', 'first', 'time', 'in', 'history', '.'], ['this', 'innovation', 'will', 'dramatically', 'change', 'the', 'way', 'books', 'are', 'discovered', ',', 'resulting', 'in', 'the', 'first', 'commercial', 'version', 'of', 'a', 'book', 'recommendation', 'system', 'based', 'on', 'the', 'experiential', 'reading', 'value', 'of', 'books', '.'], ['with', 'approximately', '1.4', 'million', 'new', 'books', 'published', 'each', 'year', ',', 'it', \"'s\", 'extremely', 'difficult', 'for', 'authors', 'to', 'connect', 'with', 'readers', 'and', 'for', 'readers', 'to', 'find', 'the', 'book', 'that', 'is', 'just', 'right', 'for', 'them', '.'], ['current', 'recommendation', 'systems', 'are', 'based', 'on', 'purchase', 'history', 'or', 'social', 'networks', 'and', 'fail', 'to', 'provide', 'what', 'readers', 'told', 'us', 'are', 'the', 'most', 'important', 'factors', 'in', 'their', 'reading', 'satisfaction', ':', 'writing', 'style', 'and', 'how', 'a', 'book', 'will', 'make', 'them', 'feel', '.'], ['the', 'proposed', 'sttr', 'project', 'will', 'lead', 'to', 'a', 'commercially', 'marketable', 'product', 'that', 'deeply', 'personalizes', 'the', 'book', 'discovery', 'process', 'and', 'perpetuates', 'literacy', '.'], ['not', 'only', 'will', 'the', 'innovation', 'help', 'authors', 'and', 'readers', 'connect', ',', 'but', 'on', 'an', 'even', 'greater', 'scale', ',', 'it', 'will', 'impact', 'the', 'way', 'books', 'are', 'written', ',', 'acquired', ',', 'distributed', 'and', 'sold', '.'], ['this', 'small', 'business', 'technology', 'transfer', '(', 'sttr', ')', 'phase', 'i', 'project', 'proposes', 'to', 'tackle', 'the', 'next', 'challenge', 'in', 'text', 'classification', ':', 'the', 'higher', 'level', 'experience', 'of', 'reading', 'a', 'book', '.'], ['the', 'computational', 'model', 'of', 'books', 'will', 'learn', 'the', 'relationship', 'between', 'content', ',', 'genre', ',', 'author', \"'s\", 'writing', 'style', ',', 'and', 'the', 'mixture', 'of', 'sentiments', 'in', 'the', 'book', 'that', ',', 'together', ',', 'define', 'how', 'a', 'book', 'will', 'make', 'a', 'reader', 'feel', '.'], ['the', 'opportunity', 'is', 'to', 'extend', 'research', 'beyond', 'what', 'is', 'already', 'possible', 'in', 'analyzing', 'thematic', 'content', 'in', 'texts', 'and', 'stylistic', 'marks', 'that', 'characterize', 'authors', \"'\", 'writeprint', 'into', 'those', 'systems', 'that', 'can', 'also', 'understand', 'and', 'articulate', 'the', 'reading', 'experience', 'itself', '.'], ['the', 'knowledge', 'derived', 'from', 'the', 'successful', 'completion', 'of', 'this', 'research', 'represents', 'a', 'new', 'frontier', 'in', 'natural', 'language', 'processing', 'and', 'machine', 'learning', 'akin', 'to', 'machine', 'reading', '.'], ['using', 'supervised', 'learning', 'to', 'perform', 'the', 'classification', 'of', 'reading', 'experience', 'for', 'books', ',', 'the', 'project', 'proposes', 'to', 'develop', 'a', 'large', 'corpus', 'of', 'human', 'annotated', 'books', 'to', 'use', 'for', 'training', ',', 'development', 'and', 'evaluation', 'of', 'the', 'approaches', 'examined', '.'], ['the', 'goal', 'is', 'to', 'initially', 'use', 'multiple', 'human', 'annotators', 'to', 'create', 'the', 'training', 'set', 'from', 'which', 'the', 'machine', 'learning', 'system', 'will', 'be', 'trained', '.'], ['then', 'we', 'apply', 'machine', 'learning', 'to', '19', 'million', 'current', 'books', 'to', 'generate', 'deeply', 'personalized', 'book', 'recommendations', '.']], 'tgt': [['no', 'summary', 'found']]}]\u001b[0m\n",
      "\u001b[33m[]\u001b[0m\n",
      "\u001b[33m[('../json_data/cnndm.valid.0.json', Namespace(dataset='', log_file='../logs/preprocess.log', lower=True, map_path='../data/', max_nsents=100, max_src_ntokens=200, min_nsents=3, min_src_ntokens=5, mode='format_to_bert', n_cpus=4, oracle_mode='greedy', raw_path='../json_data', save_path='../json_data', shard_size=2000), '../json_data/cnndm.valid.0.bert.pt')]\u001b[0m\n",
      "\u001b[33m[2020-04-17 02:46:06,107 INFO] loading vocabulary file ../json_data/vocab.txt\u001b[0m\n",
      "\u001b[33m[2020-04-17 02:46:06,134 INFO] Processing ../json_data/cnndm.valid.0.json\u001b[0m\n",
      "\u001b[33m[2020-04-17 02:46:06,142 INFO] Saving to ../json_data/cnndm.valid.0.bert.pt\u001b[0m\n",
      "\u001b[33m[('../json_data/cnndm.test.0.json', Namespace(dataset='', log_file='../logs/preprocess.log', lower=True, map_path='../data/', max_nsents=100, max_src_ntokens=200, min_nsents=3, min_src_ntokens=5, mode='format_to_bert', n_cpus=4, oracle_mode='greedy', raw_path='../json_data', save_path='../json_data', shard_size=2000), '../json_data/cnndm.test.0.bert.pt')]\u001b[0m\n",
      "\u001b[33m[2020-04-17 02:46:06,217 INFO] loading vocabulary file ../json_data/vocab.txt\u001b[0m\n",
      "\u001b[33m[2020-04-17 02:46:06,244 INFO] Processing ../json_data/cnndm.test.0.json\u001b[0m\n",
      "\u001b[33m[2020-04-17 02:46:06,252 INFO] Saving to ../json_data/cnndm.test.0.bert.pt\u001b[0m\n",
      "\u001b[33mlook at me: ../json_data/cnndm test\u001b[0m\n",
      "\u001b[33mfiles found :  ['../json_data/cnndm.test.0.bert.pt']\u001b[0m\n",
      "\u001b[33mgpu_rank 0\u001b[0m\n",
      "\u001b[33m------------inside train.py test_iter---------------- <models.data_loader.Dataloader object at 0x7f53cffb0cc0>\u001b[0m\n",
      "\u001b[33m---------------sent_scores-------------- tensor([[0.2371, 0.3807, 0.0850, 0.0440, 0.2496, 0.1738, 0.2455, 0.0356, 0.0183,\n",
      "         0.0372, 0.0601, 0.0179, 0.2759]])\u001b[0m\n",
      "\u001b[33m---------------mask--------------------- tensor([[1, 1, 1, 1, 1, 1, 1, 1, 1, 1, 1, 1, 1]], dtype=torch.uint8)\u001b[0m\n",
      "\u001b[33m-----------------inside train.py pred------------------ ['this innovation will dramatically change the way books are discovered , resulting in the first commercial version of a book recommendation system based on the experiential reading value of books .<q>then we apply machine learning to 19 million current books to generate deeply personalized book recommendations .<q>the proposed sttr project will lead to a commercially marketable product that deeply personalizes the book discovery process and perpetuates literacy .']\u001b[0m\n",
      "\u001b[33m-----------------inside train.py gold------------------ ['no summary found']\u001b[0m\n",
      "\u001b[33m<_io.TextIOWrapper name='../json_data/results/_step50000.candidate' mode='w' encoding='ANSI_X3.4-1968'>\u001b[0m\n",
      "\u001b[33m-----combined----- this innovation will dramatically change the way books are discovered , resulting in the first commercial version of a book recommendation system based on the experiential reading value of books .<q>then we apply machine learning to 19 million current books to generate deeply personalized book recommendations .<q>the proposed sttr project will lead to a commercially marketable product that deeply personalizes the book discovery process and perpetuates literacy .\n",
      "\u001b[0m\n",
      "\u001b[33m---------------intermediate---------- this innovation will dramatically change the way books are discovered , resulting in the first commercial version of a book recommendation system based on the experiential reading value of books .<q>then we apply machine learning to 19 million current books to generate deeply personalized book recommendations .<q>the proposed sttr project will lead to a commercially marketable product that deeply personalizes the book discovery process and perpetuates literacy .\n",
      "\u001b[0m\n",
      "\u001b[33m------------in pretty summary----------------- this innovation will dramatically change the way books are discovered , resulting in the first commercial version of a book recommendation system based on the experiential reading value of books .<q>then we apply machine learning to 19 million current books to generate deeply personalized book recommendations .<q>the proposed sttr project will lead to a commercially marketable product that deeply personalizes the book discovery process and perpetuates literacy .\n",
      "\u001b[0m\n",
      "\u001b[33m------------------result------------- This innovation will dramatically change the way books are discovered , resulting in the first commercial version of a book recommendation system based on the experiential reading value of books. Then we apply machine learning to 19 million current books to generate deeply personalized book recommendations. The proposed sttr project will lead to a commercially marketable product that deeply personalizes the book discovery process and perpetuates literacy.\u001b[0m\n",
      "\u001b[33m169.254.255.130 - - [17/Apr/2020 02:46:07] \"#033[37mPOST /invocations HTTP/1.1#033[0m\" 200 -\u001b[0m\n",
      "\n",
      "Batch Transform complete\n"
     ]
    }
   ],
   "source": [
    "import json \n",
    "import uuid\n",
    "transformer = model.transformer(2, 'ml.m5.xlarge')\n",
    "transformer.output_path = \"s3://nsfdata/summerized-abstract\"\n",
    "transformer.transform(top1_txt, content_type='text/plain')\n",
    "transformer.wait()\n",
    "print(\"Batch Transform complete\")"
   ]
  },
  {
   "cell_type": "markdown",
   "metadata": {
    "colab_type": "text",
    "id": "YThSIa-ehnGX"
   },
   "source": [
    "## Output from Batch Transform\n",
    "\n",
    "Note: Ensure that the following package is installed on the local system : boto3"
   ]
  },
  {
   "cell_type": "code",
   "execution_count": 31,
   "metadata": {
    "colab": {},
    "colab_type": "code",
    "id": "zOehVNlDhnGX",
    "outputId": "1dda1784-b3a7-4a4b-9820-955c43c55fbf"
   },
   "outputs": [
    {
     "name": "stdout",
     "output_type": "stream",
     "text": [
      "s3://nsfdata/summerized-abstract\n"
     ]
    }
   ],
   "source": [
    "import boto3\n",
    "print(transformer.output_path)\n",
    "bucketFolder = transformer.output_path.rsplit('/')[3]\n",
    "#print(s3bucket,s3prefix)\n",
    "s3_conn = boto3.client(\"s3\")"
   ]
  },
  {
   "cell_type": "code",
   "execution_count": 32,
   "metadata": {
    "colab": {},
    "colab_type": "code",
    "id": "IelofWEDhnGZ",
    "outputId": "c80e27bc-c3be-4fa7-d20c-1cdfb0b48481"
   },
   "outputs": [
    {
     "name": "stdout",
     "output_type": "stream",
     "text": [
      "Output file loaded from bucket\n"
     ]
    }
   ],
   "source": [
    "bucket_name=\"nsfdata\"\n",
    "with open('result.txt', 'wb') as f:\n",
    "    s3_conn.download_fileobj(bucket_name,bucketFolder+'/top1.txt.out', f)\n",
    "    print(\"Output file loaded from bucket\")"
   ]
  },
  {
   "cell_type": "code",
   "execution_count": 33,
   "metadata": {
    "colab": {},
    "colab_type": "code",
    "id": "ShU-mX2fhnGb"
   },
   "outputs": [],
   "source": [
    "with open('./result.txt', 'rb') as file_stream:\n",
    "    output_text = file_stream.read().decode('utf-8')"
   ]
  },
  {
   "cell_type": "markdown",
   "metadata": {
    "colab_type": "text",
    "id": "-2Ydu5tPhnGc"
   },
   "source": [
    "#### Original Text Input"
   ]
  },
  {
   "cell_type": "code",
   "execution_count": 34,
   "metadata": {
    "colab": {},
    "colab_type": "code",
    "id": "lC20mx4MhnGd",
    "outputId": "3bdd6ae8-4deb-49ea-9b68-d04e5aa8062b"
   },
   "outputs": [
    {
     "name": "stdout",
     "output_type": "stream",
     "text": [
      "This study utilizes publicly available data from the National Science Foundation (NSF) Web Application Programming Interface (API). In this paper, various machine learning techniques are demonstrated to explore, analyze and recommend similar proposal abstracts to aid the NSF or Awardee with the Merit Review Process. These techniques extract textual context and group it with similar context. The goal of the analysis was to utilize a Doc2Vec unsupervised learning algorithms to embed NSF funding proposal abstracts text into vector space.  Once vectorized, the abstracts were grouped together using K-means clustering. These techniques together proved to be successful at grouping similar proposals together and could be used to find similar proposals to newly submitted NSF funding proposals. \r\n",
      "To perform text analysis, SAS® University Edition is used which supports SASPy, SAS® Studio and Python JupyterLab. Gensim Doc2vec is used to generate document vectors for proposal abstracts. Afterwards, document vectors were used to cluster similar abstracts using SAS® Studio KMeans Clustering Module. For visualization, the abstract embeddings were reduced to two dimensions using Principal Component Analysis (PCA) within SAS® Studio. This was then compared to a t-Distributed Stochastic Neighbor Embedding (t-SNE) dimensionality reduction technique as part of the Scikit-learn machine learning toolkit for Python.\r\n",
      "Conclusively, NSF proposal abstract text analysis can help an awardee read and improve their proposal model by identifying similar proposal abstracts from the last 24 years. It could also help NSF evaluators identify similar existing proposals that indirectly provides insights on whether a new proposal is going to be fruitful or not.\r\n",
      "\n"
     ]
    }
   ],
   "source": [
    "print(text)"
   ]
  },
  {
   "cell_type": "markdown",
   "metadata": {
    "colab_type": "text",
    "id": "UL2o6hDqhnGf"
   },
   "source": [
    "#### Similar abstract"
   ]
  },
  {
   "cell_type": "code",
   "execution_count": 35,
   "metadata": {
    "colab": {},
    "colab_type": "code",
    "id": "-Fnb5-1ShnGg",
    "outputId": "b86d3fe5-feed-4588-c3e7-33520c8ca5f0"
   },
   "outputs": [
    {
     "name": "stdout",
     "output_type": "stream",
     "text": [
      "Output file loaded from bucket\n"
     ]
    }
   ],
   "source": [
    "bucket_name=\"nsfdata\"\n",
    "with open('top1.txt', 'wb') as f:\n",
    "    s3_conn.download_fileobj(bucket_name,'top1.txt', f)\n",
    "    print(\"Output file loaded from bucket\")"
   ]
  },
  {
   "cell_type": "code",
   "execution_count": 36,
   "metadata": {
    "colab": {},
    "colab_type": "code",
    "id": "pyr6R3KXhnGi"
   },
   "outputs": [],
   "source": [
    "with open('./top1.txt', 'rb') as file_stream:\n",
    "    top1_text = file_stream.read().decode('utf-8')"
   ]
  },
  {
   "cell_type": "code",
   "execution_count": 37,
   "metadata": {
    "colab": {},
    "colab_type": "code",
    "id": "je59I3LQhnGj",
    "outputId": "882fc12a-fead-4bcf-c6cf-6130f0dd9a4f"
   },
   "outputs": [
    {
     "name": "stdout",
     "output_type": "stream",
     "text": [
      "the broader impact/commercial potential of this small business technology transfer (sttr) phase i project will be to bring modern data analytics to the book publishing industry and apply machine learning to extract and articulate human emotion as applied to the reading of literature for the first time in history. this innovation will dramatically change the way books are discovered, resulting in the first commercial version of a book recommendation system based on the experiential reading value of books. with approximately 1.4 million new books published each year, it's extremely difficult for authors to connect with readers and for readers to find the book that is just right for them. current recommendation systems are based on purchase history or social networks and fail to provide what readers told us are the most important factors in their reading satisfaction: writing style and how a book will make them feel. the proposed sttr project will lead to a commercially marketable product that deeply personalizes the book discovery process and perpetuates literacy. not only will the innovation help authors and readers connect, but on an even greater scale, it will impact the way books are written, acquired, distributed and sold.\n",
      "\n",
      "this small business technology transfer (sttr) phase i project proposes to tackle the next challenge in text classification: the higher level experience of reading a book. the computational model of books will learn the relationship between content, genre, author's writing style, and the mixture of sentiments in the book that, together, define how a book will make a reader feel. the opportunity is to extend research beyond what is already possible in analyzing thematic content in texts and stylistic marks that characterize authors' writeprint into those systems that can also understand and articulate the reading experience itself. the knowledge derived from the successful completion of this research represents a new frontier in natural language processing and machine learning akin to machine reading. using supervised learning to perform the classification of reading experience for books, the project proposes to develop a large corpus of human annotated books to use for training, development and evaluation of the approaches examined. the goal is to initially use multiple human annotators to create the training set from which the machine learning system will be trained. then we apply machine learning to 19 million current books to generate deeply personalized book recommendations.\n"
     ]
    }
   ],
   "source": [
    "print(top1_text)"
   ]
  },
  {
   "cell_type": "markdown",
   "metadata": {
    "colab_type": "text",
    "id": "DyNXd1R8hnGl"
   },
   "source": [
    "## Summary of similar abstract"
   ]
  },
  {
   "cell_type": "markdown",
   "metadata": {},
   "source": [
    "### Output is about machine learning for book recommendation similar to machine learning for abtract recommendation in input study."
   ]
  },
  {
   "cell_type": "code",
   "execution_count": 38,
   "metadata": {
    "colab": {},
    "colab_type": "code",
    "id": "bLaDnrJjhnGm",
    "outputId": "563a5a21-492f-42a1-ec89-8de7dbbf2e6b"
   },
   "outputs": [
    {
     "name": "stdout",
     "output_type": "stream",
     "text": [
      "This innovation will dramatically change the way books are discovered , resulting in the first commercial version of a book recommendation system based on the experiential reading value of books. Then we apply machine learning to 19 million current books to generate deeply personalized book recommendations. The proposed sttr project will lead to a commercially marketable product that deeply personalizes the book discovery process and perpetuates literacy.\n",
      "Execution time : 1.81seconds\n",
      "\n"
     ]
    }
   ],
   "source": [
    "print(output_text)"
   ]
  }
 ],
 "metadata": {
  "accelerator": "GPU",
  "colab": {
   "collapsed_sections": [],
   "name": "NSFFinal.ipynb",
   "provenance": [],
   "toc_visible": true
  },
  "kernelspec": {
   "display_name": "conda_tensorflow_p36",
   "language": "python",
   "name": "conda_tensorflow_p36"
  },
  "language_info": {
   "codemirror_mode": {
    "name": "ipython",
    "version": 3
   },
   "file_extension": ".py",
   "mimetype": "text/x-python",
   "name": "python",
   "nbconvert_exporter": "python",
   "pygments_lexer": "ipython3",
   "version": "3.6.6"
  }
 },
 "nbformat": 4,
 "nbformat_minor": 1
}
